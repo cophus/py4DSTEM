{
 "cells": [
  {
   "cell_type": "code",
   "execution_count": 1,
   "id": "aa07ba8a-7250-4004-a0eb-2c58654c765f",
   "metadata": {},
   "outputs": [],
   "source": [
    "%load_ext autoreload\n",
    "%autoreload 2"
   ]
  },
  {
   "cell_type": "code",
   "execution_count": null,
   "id": "51569eaf-b2aa-46a3-9b90-5d7d162a4783",
   "metadata": {},
   "outputs": [],
   "source": [
    "!pip install tensorflow==2.8.0\n",
    "!pip install typeguard==2.7\n",
    "!pip install tensorflow-addons==0.16.1\n",
    "!pip install py4dstem==0.13.17\n",
    "!pip install ivy\n",
    "!pip install crystal4D"
   ]
  },
  {
   "cell_type": "code",
   "execution_count": 32,
   "id": "c59f0639-f5d4-47be-addc-3b3d7cbf708d",
   "metadata": {},
   "outputs": [],
   "source": [
    "from pathlib import Path\n",
    "import py4DSTEM\n",
    "import crystal4D"
   ]
  },
  {
   "cell_type": "code",
   "execution_count": 34,
   "id": "8812318a-f8f1-4e46-a94f-5a84cd5b3328",
   "metadata": {},
   "outputs": [
    {
     "data": {
      "text/plain": [
       "<crystal4D.utils.utils.lrScheduler at 0x29fa8bb20>"
      ]
     },
     "execution_count": 34,
     "metadata": {},
     "output_type": "execute_result"
    }
   ],
   "source": [
    "crystal4D.utils.lrScheduler(128)"
   ]
  },
  {
   "cell_type": "code",
   "execution_count": 3,
   "id": "d57d2349-6db6-4f0c-8a90-4b3845c8f59d",
   "metadata": {},
   "outputs": [
    {
     "data": {
      "text/plain": [
       "'0.14.9'"
      ]
     },
     "execution_count": 3,
     "metadata": {},
     "output_type": "execute_result"
    }
   ],
   "source": [
    "py4DSTEM.__version__"
   ]
  },
  {
   "cell_type": "code",
   "execution_count": 40,
   "id": "b1960fb4-f8e5-4c8a-a9ae-9e0d6e216692",
   "metadata": {},
   "outputs": [],
   "source": [
    "import tensorflow_addons as tfa"
   ]
  },
  {
   "cell_type": "code",
   "execution_count": null,
   "id": "6925d62f-76a9-49ae-ba60-0c76c8672aa8",
   "metadata": {},
   "outputs": [],
   "source": []
  },
  {
   "cell_type": "code",
   "execution_count": 43,
   "id": "325f83a2-38f2-4d21-8494-792418f58a85",
   "metadata": {},
   "outputs": [
    {
     "name": "stderr",
     "output_type": "stream",
     "text": [
      "WARNING: At this time, the v2.11+ optimizer `tf.keras.optimizers.LAMB` runs slowly on M1/M2 Macs, please use the legacy Keras optimizer instead, located at `tf.keras.optimizers.legacy.LAMB`.\n"
     ]
    },
    {
     "ename": "AttributeError",
     "evalue": "'LAMB' object has no attribute '_set_hyper'",
     "output_type": "error",
     "traceback": [
      "\u001b[0;31m---------------------------------------------------------------------------\u001b[0m",
      "\u001b[0;31mAttributeError\u001b[0m                            Traceback (most recent call last)",
      "Cell \u001b[0;32mIn[43], line 1\u001b[0m\n\u001b[0;32m----> 1\u001b[0m \u001b[43mtfa\u001b[49m\u001b[38;5;241;43m.\u001b[39;49m\u001b[43moptimizers\u001b[49m\u001b[38;5;241;43m.\u001b[39;49m\u001b[43mLAMB\u001b[49m\u001b[43m(\u001b[49m\u001b[38;5;241;43m128\u001b[39;49m\u001b[43m)\u001b[49m\n",
      "File \u001b[0;32m~/miniconda3/envs/py4dstem-fcunet/lib/python3.10/site-packages/typeguard/__init__.py:810\u001b[0m, in \u001b[0;36mtypechecked.<locals>.wrapper\u001b[0;34m(*args, **kwargs)\u001b[0m\n\u001b[1;32m    808\u001b[0m memo \u001b[38;5;241m=\u001b[39m _CallMemo(python_func, _localns, args\u001b[38;5;241m=\u001b[39margs, kwargs\u001b[38;5;241m=\u001b[39mkwargs)\n\u001b[1;32m    809\u001b[0m check_argument_types(memo)\n\u001b[0;32m--> 810\u001b[0m retval \u001b[38;5;241m=\u001b[39m \u001b[43mfunc\u001b[49m\u001b[43m(\u001b[49m\u001b[38;5;241;43m*\u001b[39;49m\u001b[43margs\u001b[49m\u001b[43m,\u001b[49m\u001b[43m \u001b[49m\u001b[38;5;241;43m*\u001b[39;49m\u001b[38;5;241;43m*\u001b[39;49m\u001b[43mkwargs\u001b[49m\u001b[43m)\u001b[49m\n\u001b[1;32m    811\u001b[0m check_return_type(retval, memo)\n\u001b[1;32m    813\u001b[0m \u001b[38;5;66;03m# If a generator is returned, wrap it if its yield/send/return types can be checked\u001b[39;00m\n",
      "File \u001b[0;32m~/miniconda3/envs/py4dstem-fcunet/lib/python3.10/site-packages/tensorflow_addons/optimizers/lamb.py:97\u001b[0m, in \u001b[0;36mLAMB.__init__\u001b[0;34m(self, learning_rate, beta_1, beta_2, epsilon, weight_decay, exclude_from_weight_decay, exclude_from_layer_adaptation, name, **kwargs)\u001b[0m\n\u001b[1;32m     89\u001b[0m \u001b[38;5;28msuper\u001b[39m()\u001b[38;5;241m.\u001b[39m\u001b[38;5;21m__init__\u001b[39m(name, \u001b[38;5;241m*\u001b[39m\u001b[38;5;241m*\u001b[39mkwargs)\n\u001b[1;32m     91\u001b[0m \u001b[38;5;66;03m# Just adding the square of the weights to the loss function is *not*\u001b[39;00m\n\u001b[1;32m     92\u001b[0m \u001b[38;5;66;03m# the correct way of using L2 regularization/weight decay with Adam,\u001b[39;00m\n\u001b[1;32m     93\u001b[0m \u001b[38;5;66;03m# since that will interact with the m and v parameters in strange ways.\u001b[39;00m\n\u001b[1;32m     94\u001b[0m \u001b[38;5;66;03m#\u001b[39;00m\n\u001b[1;32m     95\u001b[0m \u001b[38;5;66;03m# Instead we want to decay the weights in a manner that doesn't interact\u001b[39;00m\n\u001b[1;32m     96\u001b[0m \u001b[38;5;66;03m# with the m/v parameters.\u001b[39;00m\n\u001b[0;32m---> 97\u001b[0m \u001b[38;5;28;43mself\u001b[39;49m\u001b[38;5;241;43m.\u001b[39;49m\u001b[43m_set_hyper\u001b[49m(\u001b[38;5;124m\"\u001b[39m\u001b[38;5;124mweight_decay\u001b[39m\u001b[38;5;124m\"\u001b[39m, weight_decay)\n\u001b[1;32m     98\u001b[0m \u001b[38;5;28mself\u001b[39m\u001b[38;5;241m.\u001b[39m_set_hyper(\u001b[38;5;124m\"\u001b[39m\u001b[38;5;124mlearning_rate\u001b[39m\u001b[38;5;124m\"\u001b[39m, kwargs\u001b[38;5;241m.\u001b[39mget(\u001b[38;5;124m\"\u001b[39m\u001b[38;5;124mlr\u001b[39m\u001b[38;5;124m\"\u001b[39m, learning_rate))\n\u001b[1;32m    100\u001b[0m \u001b[38;5;66;03m# This is learning rate decay for using keras learning rate schedule.\u001b[39;00m\n",
      "\u001b[0;31mAttributeError\u001b[0m: 'LAMB' object has no attribute '_set_hyper'"
     ]
    }
   ],
   "source": [
    "tfa.optimizers.LAMB(128)"
   ]
  },
  {
   "cell_type": "code",
   "execution_count": 29,
   "id": "f01faf07-a47e-4e66-b8bb-d094f3deb08b",
   "metadata": {},
   "outputs": [],
   "source": [
    "import tensorflow as tf"
   ]
  },
  {
   "cell_type": "code",
   "execution_count": 31,
   "id": "799d18bf-3053-42ce-8e2d-4684c5c6bcf7",
   "metadata": {},
   "outputs": [
    {
     "data": {
      "text/plain": [
       "keras.src.optimizers.schedules.learning_rate_schedule.LearningRateSchedule"
      ]
     },
     "execution_count": 31,
     "metadata": {},
     "output_type": "execute_result"
    }
   ],
   "source": [
    "tf.keras.optimizers.schedules.LearningRateSchedule"
   ]
  },
  {
   "cell_type": "code",
   "execution_count": 38,
   "id": "5a34efff-d239-4fd6-b941-525dbd4b4dd9",
   "metadata": {},
   "outputs": [
    {
     "ename": "AttributeError",
     "evalue": "module 'keras.api._v2.keras.optimizers.legacy' has no attribute 'LAMB'",
     "output_type": "error",
     "traceback": [
      "\u001b[0;31m---------------------------------------------------------------------------\u001b[0m",
      "\u001b[0;31mAttributeError\u001b[0m                            Traceback (most recent call last)",
      "Cell \u001b[0;32mIn[38], line 1\u001b[0m\n\u001b[0;32m----> 1\u001b[0m \u001b[43mtf\u001b[49m\u001b[38;5;241;43m.\u001b[39;49m\u001b[43mkeras\u001b[49m\u001b[38;5;241;43m.\u001b[39;49m\u001b[43moptimizers\u001b[49m\u001b[38;5;241;43m.\u001b[39;49m\u001b[43mlegacy\u001b[49m\u001b[38;5;241;43m.\u001b[39;49m\u001b[43mLAMB\u001b[49m\n",
      "\u001b[0;31mAttributeError\u001b[0m: module 'keras.api._v2.keras.optimizers.legacy' has no attribute 'LAMB'"
     ]
    }
   ],
   "source": [
    "tf.keras.optimizers.legacy.LAMB"
   ]
  },
  {
   "cell_type": "code",
   "execution_count": 30,
   "id": "2afcfd08-565b-4afa-a526-e535c0265e44",
   "metadata": {},
   "outputs": [
    {
     "data": {
      "text/plain": [
       "'2.13.0'"
      ]
     },
     "execution_count": 30,
     "metadata": {},
     "output_type": "execute_result"
    }
   ],
   "source": [
    "tf.__version__"
   ]
  },
  {
   "cell_type": "code",
   "execution_count": 36,
   "id": "e021f1bd-70a6-45a3-847d-4385917a87a2",
   "metadata": {},
   "outputs": [
    {
     "ename": "AttributeError",
     "evalue": "module 'keras.api._v2.keras.optimizers.legacy' has no attribute 'Lamb'",
     "output_type": "error",
     "traceback": [
      "\u001b[0;31m---------------------------------------------------------------------------\u001b[0m",
      "\u001b[0;31mAttributeError\u001b[0m                            Traceback (most recent call last)",
      "Cell \u001b[0;32mIn[36], line 1\u001b[0m\n\u001b[0;32m----> 1\u001b[0m \u001b[43mtf\u001b[49m\u001b[38;5;241;43m.\u001b[39;49m\u001b[43mkeras\u001b[49m\u001b[38;5;241;43m.\u001b[39;49m\u001b[43moptimizers\u001b[49m\u001b[38;5;241;43m.\u001b[39;49m\u001b[43mlegacy\u001b[49m\u001b[38;5;241;43m.\u001b[39;49m\u001b[43mLamb\u001b[49m\n",
      "\u001b[0;31mAttributeError\u001b[0m: module 'keras.api._v2.keras.optimizers.legacy' has no attribute 'Lamb'"
     ]
    }
   ],
   "source": [
    "tf.keras.optimizers.legacy.Lamb"
   ]
  },
  {
   "cell_type": "code",
   "execution_count": 28,
   "id": "2d894dc8-ce0a-4858-8616-3085635012d0",
   "metadata": {},
   "outputs": [
    {
     "name": "stdout",
     "output_type": "stream",
     "text": [
      "A file already exists at ./tmp/model_metadata.json, skipping...\n",
      "Checking the latest model on the cloud... \n",
      "\n",
      "file_path = './tmp/fcunet_strain_mapping_weights_latest'\n",
      "filename = './tmp/fcunet_strain_mapping_weights_latest.zip'\n"
     ]
    },
    {
     "name": "stderr",
     "output_type": "stream",
     "text": [
      "Downloading...\n",
      "From (uriginal): https://drive.google.com/uc?id=1qzh69ZWRedpihTyLVsMWZl8RqqRZIubO\n",
      "From (redirected): https://drive.google.com/uc?id=1qzh69ZWRedpihTyLVsMWZl8RqqRZIubO&confirm=t&uuid=3115ed68-b121-48cf-8eb8-8f9822ac3c4a\n",
      "To: /Users/arakowski/Documents/git_repos/py4dstem-alex/tmp/fcunet_strain_mapping_weights_latest.zip\n",
      "100%|████████████████████████████████████████████████████████████████████████████████| 239M/239M [00:18<00:00, 13.0MB/s]\n",
      "WARNING: SavedModel saved prior to TF 2.5 detected when loading Keras model. Please ensure that you are saving the model with model.save() or tf.keras.models.save_model(), *NOT* tf.saved_model.save(). To confirm, there should be a file named \"keras_metadata.pb\" in the SavedModel directory.\n",
      "WARNING: Mixed precision compatibility check (mixed_float16): WARNING\n",
      "The dtype policy mixed_float16 may run slowly because this machine does not have a GPU. Only Nvidia GPUs with compute capability of at least 7.0 run quickly with mixed_float16.\n",
      "If you will use compatible GPU(s) not attached to this host, e.g. by running a multi-worker model, you can ignore this warning. This message will only be logged once\n"
     ]
    },
    {
     "name": "stdout",
     "output_type": "stream",
     "text": [
      "Loading the model... \n",
      "\n"
     ]
    },
    {
     "name": "stderr",
     "output_type": "stream",
     "text": [
      "WARNING: At this time, the v2.11+ optimizer `tf.keras.optimizers.LAMB` runs slowly on M1/M2 Macs, please use the legacy Keras optimizer instead, located at `tf.keras.optimizers.legacy.LAMB`.\n"
     ]
    },
    {
     "ename": "ValueError",
     "evalue": "decay is deprecated in the new Keras optimizer, please check the docstring for valid arguments, or use the legacy optimizer, e.g., tf.keras.optimizers.legacy.LAMB.",
     "output_type": "error",
     "traceback": [
      "\u001b[0;31m---------------------------------------------------------------------------\u001b[0m",
      "\u001b[0;31mValueError\u001b[0m                                Traceback (most recent call last)",
      "Cell \u001b[0;32mIn[28], line 1\u001b[0m\n\u001b[0;32m----> 1\u001b[0m m \u001b[38;5;241m=\u001b[39m \u001b[43mpy4DSTEM\u001b[49m\u001b[38;5;241;43m.\u001b[39;49m\u001b[43mbraggvectors\u001b[49m\u001b[38;5;241;43m.\u001b[39;49m\u001b[43mdiskdetection_aiml\u001b[49m\u001b[38;5;241;43m.\u001b[39;49m\u001b[43m_get_latest_model\u001b[49m\u001b[43m(\u001b[49m\u001b[43m)\u001b[49m\n",
      "File \u001b[0;32m~/Documents/git_repos/py4dstem-alex/py4DSTEM/braggvectors/diskdetection_aiml.py:934\u001b[0m, in \u001b[0;36m_get_latest_model\u001b[0;34m(model_path)\u001b[0m\n\u001b[1;32m    931\u001b[0m         os\u001b[38;5;241m.\u001b[39mrename(\u001b[38;5;124m\"\u001b[39m\u001b[38;5;124m./tmp/model_metadata.json\u001b[39m\u001b[38;5;124m\"\u001b[39m, \u001b[38;5;124m\"\u001b[39m\u001b[38;5;124m./tmp/model_metadata_old.json\u001b[39m\u001b[38;5;124m\"\u001b[39m)\n\u001b[1;32m    932\u001b[0m         \u001b[38;5;28mprint\u001b[39m(\u001b[38;5;124m\"\u001b[39m\u001b[38;5;124mLoading the model... \u001b[39m\u001b[38;5;130;01m\\n\u001b[39;00m\u001b[38;5;124m\"\u001b[39m)\n\u001b[0;32m--> 934\u001b[0m     model \u001b[38;5;241m=\u001b[39m \u001b[43mtf\u001b[49m\u001b[38;5;241;43m.\u001b[39;49m\u001b[43mkeras\u001b[49m\u001b[38;5;241;43m.\u001b[39;49m\u001b[43mmodels\u001b[49m\u001b[38;5;241;43m.\u001b[39;49m\u001b[43mload_model\u001b[49m\u001b[43m(\u001b[49m\n\u001b[1;32m    935\u001b[0m \u001b[43m        \u001b[49m\u001b[43mmodel_path\u001b[49m\u001b[43m,\u001b[49m\n\u001b[1;32m    936\u001b[0m \u001b[43m        \u001b[49m\u001b[43mcustom_objects\u001b[49m\u001b[38;5;241;43m=\u001b[39;49m\u001b[43m{\u001b[49m\u001b[38;5;124;43m\"\u001b[39;49m\u001b[38;5;124;43mlrScheduler\u001b[39;49m\u001b[38;5;124;43m\"\u001b[39;49m\u001b[43m:\u001b[49m\u001b[43m \u001b[49m\u001b[43mcrystal4D\u001b[49m\u001b[38;5;241;43m.\u001b[39;49m\u001b[43mutils\u001b[49m\u001b[38;5;241;43m.\u001b[39;49m\u001b[43mutils\u001b[49m\u001b[38;5;241;43m.\u001b[39;49m\u001b[43mlrScheduler\u001b[49m\u001b[43m(\u001b[49m\u001b[38;5;241;43m128\u001b[39;49m\u001b[43m)\u001b[49m\u001b[43m}\u001b[49m\u001b[43m,\u001b[49m\n\u001b[1;32m    937\u001b[0m \u001b[43m    \u001b[49m\u001b[43m)\u001b[49m\n\u001b[1;32m    938\u001b[0m \u001b[38;5;28;01melse\u001b[39;00m:\n\u001b[1;32m    939\u001b[0m     \u001b[38;5;28mprint\u001b[39m(\u001b[38;5;124m\"\u001b[39m\u001b[38;5;124mLoading the user provided model... \u001b[39m\u001b[38;5;130;01m\\n\u001b[39;00m\u001b[38;5;124m\"\u001b[39m)\n",
      "File \u001b[0;32m~/miniconda3/envs/py4dstem-fcunet/lib/python3.10/site-packages/keras/src/saving/saving_api.py:238\u001b[0m, in \u001b[0;36mload_model\u001b[0;34m(filepath, custom_objects, compile, safe_mode, **kwargs)\u001b[0m\n\u001b[1;32m    230\u001b[0m     \u001b[38;5;28;01mreturn\u001b[39;00m saving_lib\u001b[38;5;241m.\u001b[39mload_model(\n\u001b[1;32m    231\u001b[0m         filepath,\n\u001b[1;32m    232\u001b[0m         custom_objects\u001b[38;5;241m=\u001b[39mcustom_objects,\n\u001b[1;32m    233\u001b[0m         \u001b[38;5;28mcompile\u001b[39m\u001b[38;5;241m=\u001b[39m\u001b[38;5;28mcompile\u001b[39m,\n\u001b[1;32m    234\u001b[0m         safe_mode\u001b[38;5;241m=\u001b[39msafe_mode,\n\u001b[1;32m    235\u001b[0m     )\n\u001b[1;32m    237\u001b[0m \u001b[38;5;66;03m# Legacy case.\u001b[39;00m\n\u001b[0;32m--> 238\u001b[0m \u001b[38;5;28;01mreturn\u001b[39;00m \u001b[43mlegacy_sm_saving_lib\u001b[49m\u001b[38;5;241;43m.\u001b[39;49m\u001b[43mload_model\u001b[49m\u001b[43m(\u001b[49m\n\u001b[1;32m    239\u001b[0m \u001b[43m    \u001b[49m\u001b[43mfilepath\u001b[49m\u001b[43m,\u001b[49m\u001b[43m \u001b[49m\u001b[43mcustom_objects\u001b[49m\u001b[38;5;241;43m=\u001b[39;49m\u001b[43mcustom_objects\u001b[49m\u001b[43m,\u001b[49m\u001b[43m \u001b[49m\u001b[38;5;28;43mcompile\u001b[39;49m\u001b[38;5;241;43m=\u001b[39;49m\u001b[38;5;28;43mcompile\u001b[39;49m\u001b[43m,\u001b[49m\u001b[43m \u001b[49m\u001b[38;5;241;43m*\u001b[39;49m\u001b[38;5;241;43m*\u001b[39;49m\u001b[43mkwargs\u001b[49m\n\u001b[1;32m    240\u001b[0m \u001b[43m\u001b[49m\u001b[43m)\u001b[49m\n",
      "File \u001b[0;32m~/miniconda3/envs/py4dstem-fcunet/lib/python3.10/site-packages/keras/src/utils/traceback_utils.py:70\u001b[0m, in \u001b[0;36mfilter_traceback.<locals>.error_handler\u001b[0;34m(*args, **kwargs)\u001b[0m\n\u001b[1;32m     67\u001b[0m     filtered_tb \u001b[38;5;241m=\u001b[39m _process_traceback_frames(e\u001b[38;5;241m.\u001b[39m__traceback__)\n\u001b[1;32m     68\u001b[0m     \u001b[38;5;66;03m# To get the full stack trace, call:\u001b[39;00m\n\u001b[1;32m     69\u001b[0m     \u001b[38;5;66;03m# `tf.debugging.disable_traceback_filtering()`\u001b[39;00m\n\u001b[0;32m---> 70\u001b[0m     \u001b[38;5;28;01mraise\u001b[39;00m e\u001b[38;5;241m.\u001b[39mwith_traceback(filtered_tb) \u001b[38;5;28;01mfrom\u001b[39;00m \u001b[38;5;28;01mNone\u001b[39;00m\n\u001b[1;32m     71\u001b[0m \u001b[38;5;28;01mfinally\u001b[39;00m:\n\u001b[1;32m     72\u001b[0m     \u001b[38;5;28;01mdel\u001b[39;00m filtered_tb\n",
      "File \u001b[0;32m~/miniconda3/envs/py4dstem-fcunet/lib/python3.10/site-packages/typeguard/__init__.py:810\u001b[0m, in \u001b[0;36mtypechecked.<locals>.wrapper\u001b[0;34m(*args, **kwargs)\u001b[0m\n\u001b[1;32m    808\u001b[0m memo \u001b[38;5;241m=\u001b[39m _CallMemo(python_func, _localns, args\u001b[38;5;241m=\u001b[39margs, kwargs\u001b[38;5;241m=\u001b[39mkwargs)\n\u001b[1;32m    809\u001b[0m check_argument_types(memo)\n\u001b[0;32m--> 810\u001b[0m retval \u001b[38;5;241m=\u001b[39m \u001b[43mfunc\u001b[49m\u001b[43m(\u001b[49m\u001b[38;5;241;43m*\u001b[39;49m\u001b[43margs\u001b[49m\u001b[43m,\u001b[49m\u001b[43m \u001b[49m\u001b[38;5;241;43m*\u001b[39;49m\u001b[38;5;241;43m*\u001b[39;49m\u001b[43mkwargs\u001b[49m\u001b[43m)\u001b[49m\n\u001b[1;32m    811\u001b[0m check_return_type(retval, memo)\n\u001b[1;32m    813\u001b[0m \u001b[38;5;66;03m# If a generator is returned, wrap it if its yield/send/return types can be checked\u001b[39;00m\n",
      "File \u001b[0;32m~/miniconda3/envs/py4dstem-fcunet/lib/python3.10/site-packages/tensorflow_addons/optimizers/lamb.py:89\u001b[0m, in \u001b[0;36mLAMB.__init__\u001b[0;34m(self, learning_rate, beta_1, beta_2, epsilon, weight_decay, exclude_from_weight_decay, exclude_from_layer_adaptation, name, **kwargs)\u001b[0m\n\u001b[1;32m     86\u001b[0m     weight_decay \u001b[38;5;241m=\u001b[39m kwargs[\u001b[38;5;124m\"\u001b[39m\u001b[38;5;124mweight_decay_rate\u001b[39m\u001b[38;5;124m\"\u001b[39m]\n\u001b[1;32m     87\u001b[0m     \u001b[38;5;28;01mdel\u001b[39;00m kwargs[\u001b[38;5;124m\"\u001b[39m\u001b[38;5;124mweight_decay_rate\u001b[39m\u001b[38;5;124m\"\u001b[39m]\n\u001b[0;32m---> 89\u001b[0m \u001b[38;5;28;43msuper\u001b[39;49m\u001b[43m(\u001b[49m\u001b[43m)\u001b[49m\u001b[38;5;241;43m.\u001b[39;49m\u001b[38;5;21;43m__init__\u001b[39;49m\u001b[43m(\u001b[49m\u001b[43mname\u001b[49m\u001b[43m,\u001b[49m\u001b[43m \u001b[49m\u001b[38;5;241;43m*\u001b[39;49m\u001b[38;5;241;43m*\u001b[39;49m\u001b[43mkwargs\u001b[49m\u001b[43m)\u001b[49m\n\u001b[1;32m     91\u001b[0m \u001b[38;5;66;03m# Just adding the square of the weights to the loss function is *not*\u001b[39;00m\n\u001b[1;32m     92\u001b[0m \u001b[38;5;66;03m# the correct way of using L2 regularization/weight decay with Adam,\u001b[39;00m\n\u001b[1;32m     93\u001b[0m \u001b[38;5;66;03m# since that will interact with the m and v parameters in strange ways.\u001b[39;00m\n\u001b[1;32m     94\u001b[0m \u001b[38;5;66;03m#\u001b[39;00m\n\u001b[1;32m     95\u001b[0m \u001b[38;5;66;03m# Instead we want to decay the weights in a manner that doesn't interact\u001b[39;00m\n\u001b[1;32m     96\u001b[0m \u001b[38;5;66;03m# with the m/v parameters.\u001b[39;00m\n\u001b[1;32m     97\u001b[0m \u001b[38;5;28mself\u001b[39m\u001b[38;5;241m.\u001b[39m_set_hyper(\u001b[38;5;124m\"\u001b[39m\u001b[38;5;124mweight_decay\u001b[39m\u001b[38;5;124m\"\u001b[39m, weight_decay)\n",
      "\u001b[0;31mValueError\u001b[0m: decay is deprecated in the new Keras optimizer, please check the docstring for valid arguments, or use the legacy optimizer, e.g., tf.keras.optimizers.legacy.LAMB."
     ]
    }
   ],
   "source": [
    "m = py4DSTEM.braggvectors.diskdetection_aiml._get_latest_model()"
   ]
  },
  {
   "cell_type": "code",
   "execution_count": 13,
   "id": "7982b31a-ab73-417a-b057-059fb45d4cdd",
   "metadata": {},
   "outputs": [],
   "source": [
    "filename = './tmp/fcunet_strain_mapping_weights_latest.zip'"
   ]
  },
  {
   "cell_type": "code",
   "execution_count": 17,
   "id": "eb6c99f8-8f30-40f3-b6b0-9b9948ceb3c0",
   "metadata": {},
   "outputs": [],
   "source": [
    "p = Path(filename)"
   ]
  },
  {
   "cell_type": "code",
   "execution_count": 27,
   "id": "cf99dda6-a0a7-4612-a0c9-0838d3520e49",
   "metadata": {},
   "outputs": [
    {
     "data": {
      "text/plain": [
       "('tmp', 'fcunet_strain_mapping_weights_latest.zip')"
      ]
     },
     "execution_count": 27,
     "metadata": {},
     "output_type": "execute_result"
    }
   ],
   "source": [
    "p.parts"
   ]
  },
  {
   "cell_type": "code",
   "execution_count": 6,
   "id": "d09c93f4-be60-4507-863a-ee9d54c8e911",
   "metadata": {},
   "outputs": [],
   "source": [
    "import os\n"
   ]
  },
  {
   "cell_type": "code",
   "execution_count": 7,
   "id": "609dd77e-5335-44bb-ad32-b22673f31801",
   "metadata": {},
   "outputs": [
    {
     "ename": "FileExistsError",
     "evalue": "[Errno 17] File exists: './tmp'",
     "output_type": "error",
     "traceback": [
      "\u001b[0;31m---------------------------------------------------------------------------\u001b[0m",
      "\u001b[0;31mFileExistsError\u001b[0m                           Traceback (most recent call last)",
      "Cell \u001b[0;32mIn[7], line 1\u001b[0m\n\u001b[0;32m----> 1\u001b[0m \u001b[43mos\u001b[49m\u001b[38;5;241;43m.\u001b[39;49m\u001b[43mmkdir\u001b[49m\u001b[43m(\u001b[49m\u001b[38;5;124;43m\"\u001b[39;49m\u001b[38;5;124;43m./tmp\u001b[39;49m\u001b[38;5;124;43m\"\u001b[39;49m\u001b[43m)\u001b[49m\n",
      "\u001b[0;31mFileExistsError\u001b[0m: [Errno 17] File exists: './tmp'"
     ]
    }
   ],
   "source": [
    "os.mkdir(\"./tmp\")"
   ]
  },
  {
   "cell_type": "code",
   "execution_count": 10,
   "id": "ab915b49-6b1f-42df-b4c3-a93022ec3a62",
   "metadata": {},
   "outputs": [
    {
     "name": "stderr",
     "output_type": "stream",
     "text": [
      "Downloading...\n",
      "From: https://drive.google.com/uc?id=1-KX0saEYfhZ9IJAOwabH38PCVtfXidJi\n",
      "To: /Users/arakowski/Documents/git_repos/py4dstem-alex/tmp/model_metadata.json\n",
      "100%|███████████████████████████████████████████████████████████████████████████████████| 200/200 [00:00<00:00, 226kB/s]\n"
     ]
    }
   ],
   "source": [
    "py4DSTEM.io.gdrive_download(id_=\"1-KX0saEYfhZ9IJAOwabH38PCVtfXidJi\", destination=\"./tmp/\", filename=\"model_metadata.json\")"
   ]
  },
  {
   "cell_type": "code",
   "execution_count": null,
   "id": "5c004167-5629-4b76-a01a-31a4ed5aa0a4",
   "metadata": {},
   "outputs": [],
   "source": [
    "py4DSTEM.io.gdrive_download"
   ]
  }
 ],
 "metadata": {
  "kernelspec": {
   "display_name": "Python 3 (ipykernel)",
   "language": "python",
   "name": "python3"
  },
  "language_info": {
   "codemirror_mode": {
    "name": "ipython",
    "version": 3
   },
   "file_extension": ".py",
   "mimetype": "text/x-python",
   "name": "python",
   "nbconvert_exporter": "python",
   "pygments_lexer": "ipython3",
   "version": "3.10.13"
  }
 },
 "nbformat": 4,
 "nbformat_minor": 5
}
