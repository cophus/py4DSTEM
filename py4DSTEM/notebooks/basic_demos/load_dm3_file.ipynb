{
 "cells": [
  {
   "cell_type": "code",
   "execution_count": 9,
   "metadata": {},
   "outputs": [],
   "source": [
    "import py4DSTEM\n",
    "\n",
    "import numpy as np\n",
    "import matplotlib.pyplot as plt"
   ]
  },
  {
   "cell_type": "code",
   "execution_count": 3,
   "metadata": {},
   "outputs": [
    {
     "name": "stdout",
     "output_type": "stream",
     "text": [
      "Reading file /Users/Ben/Work/NCEM/Projects/4D-DataViewer/sample_data/2_25x25 ss=25 alpha=p48 spot 11 cl=600 300kV RT bin=4 0p5sec.dm3...\n",
      "\n",
      "/Users/Ben/Work/NCEM/Projects/4D-DataViewer/sample_data/2_25x25 ss=25 alpha=p48 spot 11 cl=600 300kV RT bin=4 0p5sec.dm3 is not a py4DSTEM file.  Reading with hyperspy...\n"
     ]
    }
   ],
   "source": [
    "fp=\"/Users/Ben/Work/NCEM/Projects/4D-DataViewer/sample_data/2_25x25 ss=25 alpha=p48 spot 11 cl=600 300kV RT bin=4 0p5sec.dm3\"\n",
    "dc = py4DSTEM.readwrite.read_data(fp)"
   ]
  },
  {
   "cell_type": "code",
   "execution_count": 7,
   "metadata": {},
   "outputs": [
    {
     "data": {
      "text/plain": [
       "(25, 25, 512, 512)"
      ]
     },
     "execution_count": 7,
     "metadata": {},
     "output_type": "execute_result"
    }
   ],
   "source": [
    "dc.set_scan_shape(25,25)\n",
    "dc.data4D.shape"
   ]
  },
  {
   "cell_type": "code",
   "execution_count": 14,
   "metadata": {},
   "outputs": [
    {
     "data": {
      "image/png": "[encoded data removed]",
      "text/plain": [
       "<Figure size 432x288 with 1 Axes>"
      ]
     },
     "metadata": {},
     "output_type": "display_data"
    }
   ],
   "source": [
    "fig,ax=plt.subplots()\n",
    "ax.matshow(np.average(dc.data4D,axis=(2,3)),cmap='gray')\n",
    "plt.show()"
   ]
  },
  {
   "cell_type": "code",
   "execution_count": null,
   "metadata": {},
   "outputs": [],
   "source": []
  }
 ],
 "metadata": {
  "anaconda-cloud": {},
  "kernelspec": {
   "display_name": "Python [conda env:py3]",
   "language": "python",
   "name": "conda-env-py3-py"
  },
  "language_info": {
   "codemirror_mode": {
    "name": "ipython",
    "version": 3
   },
   "file_extension": ".py",
   "mimetype": "text/x-python",
   "name": "python",
   "nbconvert_exporter": "python",
   "pygments_lexer": "ipython3",
   "version": "3.6.4"
  }
 },
 "nbformat": 4,
 "nbformat_minor": 2
}
