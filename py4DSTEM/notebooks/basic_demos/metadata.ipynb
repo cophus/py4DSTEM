{
 "cells": [
  {
   "cell_type": "markdown",
   "metadata": {},
   "source": [
    "## Metadata\n",
    "\n",
    "This notebook discusses how py4DSTEM handles metadata, including:\n",
    "1. How metadata is stored and retrieved in-program\n",
    "2. How metadata is edited, and how to tell py4DSTEM to permanently scrape new metadata from input files"
   ]
  },
  {
   "cell_type": "code",
   "execution_count": 1,
   "metadata": {},
   "outputs": [
    {
     "name": "stderr",
     "output_type": "stream",
     "text": [
      "WARNING:hyperspy.api:The ipywidgets GUI elements are not available, probably because the hyperspy_gui_ipywidgets package is not installed.\n",
      "WARNING:hyperspy_gui_traitsui:The module://ipykernel.pylab.backend_inline matplotlib backend is not supported by the installed traitsui version and the ETS toolkit has been set to null. To set the ETS toolkit independently from the matplotlib backend, set it before importing matplotlib. See http://hyperspy.readthedocs.io/en/stable/user_guide/getting_started.html for more information.\n",
      "WARNING:hyperspy_gui_traitsui:The traitsui GUI elements are not available.\n"
     ]
    }
   ],
   "source": [
    "# Imports\n",
    "\n",
    "import numpy as np\n",
    "import matplotlib.pyplot as plt\n",
    "import py4DSTEM"
   ]
  },
  {
   "cell_type": "code",
   "execution_count": 2,
   "metadata": {},
   "outputs": [
    {
     "name": "stdout",
     "output_type": "stream",
     "text": [
      "/home/ben/Data/20180830_zeltman_smallsampledatasets/1_10x10 ss=100 alpha=p48 spot 11 cl=1200 300kV RT bin=4 0p5sec.dm3 is not a py4DSTEM file.  Reading with hyperspy...\n"
     ]
    }
   ],
   "source": [
    "# Load data\n",
    "\n",
    "fp = \"/home/ben/Data/20180830_zeltman_smallsampledatasets/1_10x10 ss=100 alpha=p48 spot 11 cl=1200 300kV RT bin=4 0p5sec.dm3\"\n",
    "dc = py4DSTEM.readwrite.read(fp)\n",
    "dc.set_scan_shape(10,10)"
   ]
  },
  {
   "cell_type": "markdown",
   "metadata": {},
   "source": [
    "#### How metadata is stored and retreived in-program"
   ]
  },
  {
   "cell_type": "code",
   "execution_count": 16,
   "metadata": {},
   "outputs": [
    {
     "data": {
      "text/plain": [
       "py4DSTEM.process.datastructure.metadata.Metadata"
      ]
     },
     "execution_count": 16,
     "metadata": {},
     "output_type": "execute_result"
    }
   ],
   "source": [
    "# Metadata lives in a py4DSTEM Metadata object.\n",
    "# Loading new datacube from a file creates a DataCube instance and Matadata instance\n",
    "# The datacube contains a pionter to the metadata at datacube.metadata\n",
    "\n",
    "metadata = dc.metadata\n",
    "type(metadata)"
   ]
  },
  {
   "cell_type": "code",
   "execution_count": 4,
   "metadata": {},
   "outputs": [
    {
     "data": {
      "text/plain": [
       "dict_keys(['__name__', 'microscope', 'sample', 'user', 'calibration', 'comments'])"
      ]
     },
     "execution_count": 4,
     "metadata": {},
     "output_type": "execute_result"
    }
   ],
   "source": [
    "# The Metadata instance's metadata lives in metdata.metadata.  How meta! ;)\n",
    "# It's structure is simple: metadata.metadata contains a handful of dictionaries, whose key value pairs constitute\n",
    "# the metadata\n",
    "# For manually searching metadata, just examine these directly\n",
    "\n",
    "dc.metadata.metadata.__dict__.keys()"
   ]
  },
  {
   "cell_type": "code",
   "execution_count": 5,
   "metadata": {},
   "outputs": [
    {
     "data": {
      "text/plain": [
       "{'accelerating_voltage': 300.0,\n",
       " 'accelerating_voltage_units': '',\n",
       " 'camera_length': 195.0,\n",
       " 'camera_length_units': '',\n",
       " 'C2_aperture': '',\n",
       " 'convergence_semiangle_mrad': '',\n",
       " 'spot_size': '',\n",
       " 'scan_rotation_degrees': '',\n",
       " 'dwell_time': '',\n",
       " 'dwell_time_units': '',\n",
       " 'scan_size_Ny': '',\n",
       " 'scan_size_Nx': '',\n",
       " 'R_pix_size': '',\n",
       " 'R_pix_units': '',\n",
       " 'K_pix_size': '',\n",
       " 'K_pix_units': '',\n",
       " 'probe_FWHM_nm': '',\n",
       " 'acquisition_date': '',\n",
       " 'original_filename': '1_10x10 ss=100 alpha=p48 spot 11 cl=1200 300kV RT bin=4 0p5sec.dm3'}"
      ]
     },
     "execution_count": 5,
     "metadata": {},
     "output_type": "execute_result"
    }
   ],
   "source": [
    "dc.metadata.metadata.microscope"
   ]
  },
  {
   "cell_type": "code",
   "execution_count": 6,
   "metadata": {},
   "outputs": [
    {
     "data": {
      "text/plain": [
       "300.0"
      ]
     },
     "execution_count": 6,
     "metadata": {},
     "output_type": "execute_result"
    }
   ],
   "source": [
    "dc.metadata.metadata.microscope['accelerating_voltage']"
   ]
  },
  {
   "cell_type": "code",
   "execution_count": 7,
   "metadata": {},
   "outputs": [
    {
     "data": {
      "text/plain": [
       "300.0"
      ]
     },
     "execution_count": 7,
     "metadata": {},
     "output_type": "execute_result"
    }
   ],
   "source": [
    "# If you already known the key of the field you need, you can get it's value in general with\n",
    "\n",
    "dc.metadata.get_metadata_item('accelerating_voltage')"
   ]
  },
  {
   "cell_type": "code",
   "execution_count": 8,
   "metadata": {},
   "outputs": [
    {
     "data": {
      "text/plain": [
       "<py4DSTEM.process.datastructure.metadata.MetadataCollection at 0x7f6727518cf8>"
      ]
     },
     "execution_count": 8,
     "metadata": {},
     "output_type": "execute_result"
    }
   ],
   "source": [
    "# The metadata in these dictionaries constitues everything py4DSTEM knows to scrape from the metadata hyperspy\n",
    "# finds and places in its DictionaryTreeBrowser objects.  These objects are also stored in py4DSTEM's Metadata\n",
    "# objects, so they can always be retreived and scoured manually if needs-be.  They live in\n",
    "# metadata.original_metadata.\n",
    "\n",
    "dc.metadata.original_metadata"
   ]
  },
  {
   "cell_type": "code",
   "execution_count": 13,
   "metadata": {},
   "outputs": [
    {
     "data": {
      "text/plain": [
       "dict_keys(['__name__', 'shortlist', 'all'])"
      ]
     },
     "execution_count": 13,
     "metadata": {},
     "output_type": "execute_result"
    }
   ],
   "source": [
    "dc.metadata.original_metadata.__dict__.keys()"
   ]
  },
  {
   "cell_type": "code",
   "execution_count": 14,
   "metadata": {},
   "outputs": [
    {
     "data": {
      "text/plain": [
       "hyperspy.misc.utils.DictionaryTreeBrowser"
      ]
     },
     "execution_count": 14,
     "metadata": {},
     "output_type": "execute_result"
    }
   ],
   "source": [
    "type(dc.metadata.original_metadata.shortlist)"
   ]
  },
  {
   "cell_type": "code",
   "execution_count": 15,
   "metadata": {},
   "outputs": [
    {
     "data": {
      "text/plain": [
       "├── Acquisition_instrument\n",
       "│   └── TEM\n",
       "│       ├── acquisition_mode = TEM\n",
       "│       ├── beam_current = 0.005\n",
       "│       ├── beam_energy = 300.0\n",
       "│       ├── camera_length = 195.0\n",
       "│       ├── magnification = 1200.0\n",
       "│       └── microscope = FEI Tecnai Remote\n",
       "├── General\n",
       "│   ├── date = 2018-06-11\n",
       "│   ├── original_filename = 1_10x10 ss=100 alpha=p48 spot 11 cl=1200 300kV RT bin=4 0p5sec.dm3\n",
       "│   ├── time = 16:22:54\n",
       "│   └── title = 1_10x10 ss=100 alpha=p48 spot 11 cl=1200 300kV RT bin=4 0p5sec\n",
       "└── Signal\n",
       "    ├── Noise_properties\n",
       "    │   └── Variance_linear_model\n",
       "    │       ├── gain_factor = 1.0\n",
       "    │       └── gain_offset = 0.0\n",
       "    ├── binned = False\n",
       "    ├── quantity = Intensity\n",
       "    └── signal_type = "
      ]
     },
     "execution_count": 15,
     "metadata": {},
     "output_type": "execute_result"
    }
   ],
   "source": [
    "dc.metadata.original_metadata.shortlist"
   ]
  },
  {
   "cell_type": "code",
   "execution_count": 18,
   "metadata": {},
   "outputs": [
    {
     "data": {
      "text/plain": [
       "(True, 0.005)"
      ]
     },
     "execution_count": 18,
     "metadata": {},
     "output_type": "execute_result"
    }
   ],
   "source": [
    "# You can search and retrieve items from these hyperspy objects with\n",
    "\n",
    "dc.metadata.search_hs_tree('beam_current', dc.metadata.original_metadata.shortlist)"
   ]
  },
  {
   "cell_type": "code",
   "execution_count": null,
   "metadata": {},
   "outputs": [],
   "source": []
  },
  {
   "cell_type": "markdown",
   "metadata": {},
   "source": [
    "#### Editing and scraping new metadata"
   ]
  },
  {
   "cell_type": "code",
   "execution_count": 23,
   "metadata": {},
   "outputs": [],
   "source": [
    "# To add new metadata or edit existing metadata, you can either use the method\n",
    "\n",
    "dc.metadata.add_metadata_item('sample','no moon; a space station',dc.metadata.metadata.sample)"
   ]
  },
  {
   "cell_type": "code",
   "execution_count": 24,
   "metadata": {},
   "outputs": [
    {
     "data": {
      "text/plain": [
       "'no moon; a space station'"
      ]
     },
     "execution_count": 24,
     "metadata": {},
     "output_type": "execute_result"
    }
   ],
   "source": [
    "dc.metadata.get_metadata_item('sample')"
   ]
  },
  {
   "cell_type": "code",
   "execution_count": 27,
   "metadata": {},
   "outputs": [],
   "source": [
    "# Or just use the dictionaries themselves\n",
    "\n",
    "comment = \"Don't be too proud of this technological terror you've constructed. \" + \\\n",
    "          \"The ability to destroy a planet is insignificant next to the powers of the force.\"\n",
    "\n",
    "dc.metadata.metadata.comments[\"DVs cautionary\"] = comment"
   ]
  },
  {
   "cell_type": "code",
   "execution_count": 29,
   "metadata": {},
   "outputs": [
    {
     "data": {
      "text/plain": [
       "\"Don't be too proud of this technological terror you've constructed. The ability to destroy a planet is insignificant next to the powers of the force.\""
      ]
     },
     "execution_count": 29,
     "metadata": {},
     "output_type": "execute_result"
    }
   ],
   "source": [
    "dc.metadata.get_metadata_item('DVs cautionary')"
   ]
  },
  {
   "cell_type": "code",
   "execution_count": 30,
   "metadata": {},
   "outputs": [],
   "source": [
    "# To tell py4DSTEM to automatically scrape an item of metadata from the DictionaryTreeBrowsers on load, edit\n",
    "# the Metadata method setup_search_dicts(), in ./process/datastructure/metadata.py, with key:value pairs specifying the py4DSTEM:hyperspy strings associated\n",
    "# with the metadata item of interest\n",
    "\n",
    "dc.metadata.setup_metadata_search_dicts?"
   ]
  },
  {
   "cell_type": "code",
   "execution_count": null,
   "metadata": {},
   "outputs": [],
   "source": []
  },
  {
   "cell_type": "code",
   "execution_count": null,
   "metadata": {},
   "outputs": [],
   "source": []
  },
  {
   "cell_type": "code",
   "execution_count": null,
   "metadata": {},
   "outputs": [],
   "source": []
  },
  {
   "cell_type": "code",
   "execution_count": null,
   "metadata": {},
   "outputs": [],
   "source": []
  }
 ],
 "metadata": {
  "anaconda-cloud": {},
  "kernelspec": {
   "display_name": "Python 3",
   "language": "python",
   "name": "python3"
  },
  "language_info": {
   "codemirror_mode": {
    "name": "ipython",
    "version": 3
   },
   "file_extension": ".py",
   "mimetype": "text/x-python",
   "name": "python",
   "nbconvert_exporter": "python",
   "pygments_lexer": "ipython3",
   "version": "3.7.0"
  }
 },
 "nbformat": 4,
 "nbformat_minor": 2
}
