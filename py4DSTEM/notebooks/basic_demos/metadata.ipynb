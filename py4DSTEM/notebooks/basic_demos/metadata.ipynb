{
 "cells": [
  {
   "cell_type": "markdown",
   "metadata": {},
   "source": [
    "## Metadata\n",
    "\n",
    "This notebook discusses how py4DSTEM handles metadata, including:\n",
    "1. Basics: how metadata is\n",
    "    - initially scraped from raw files\n",
    "    - subsequently edited\n",
    "    - stored and retrieved\n",
    "2. Association with data:\n",
    "    - when creating a new dataobject, it may either point to an existing metadata object, or a new one may be generated\n",
    "3. Saving and loading:\n",
    "    - file conventions when many dataobjects are saved together with more than one metadata object\n",
    "4. Editing default scraping behavior:\n",
    "    - how to tell py4DSTEM to permanently scrape new metadata from input files"
   ]
  },
  {
   "cell_type": "code",
   "execution_count": 1,
   "metadata": {},
   "outputs": [],
   "source": [
    "# Imports\n",
    "\n",
    "import numpy as np\n",
    "import matplotlib.pyplot as plt\n",
    "import py4DSTEM\n",
    "from py4DSTEM.file.io import save, FileBrowser"
   ]
  },
  {
   "cell_type": "code",
   "execution_count": 2,
   "metadata": {},
   "outputs": [
    {
     "name": "stdout",
     "output_type": "stream",
     "text": [
      "/home/ben/Data/20180830_zeltman_smallsampledatasets/1_10x10 ss=100 alpha=p48 spot 11 cl=1200 300kV RT bin=4 0p5sec.dm3 is not a py4DSTEM file.\n",
      "Reading with hyperspy...\n",
      "Warning: scan shape not detected in metadata; please check / set manually.\n"
     ]
    }
   ],
   "source": [
    "# Load data\n",
    "\n",
    "fp = \"/home/ben/Data/20180830_zeltman_smallsampledatasets/1_10x10 ss=100 alpha=p48 spot 11 cl=1200 300kV RT bin=4 0p5sec.dm3\"\n",
    "dc = py4DSTEM.file.io.read(fp)\n",
    "dc.set_scan_shape(10,10)"
   ]
  },
  {
   "cell_type": "markdown",
   "metadata": {},
   "source": [
    "### Basics: how metadata is\n",
    "\n",
    "- initially scraped from raw files\n",
    "- subsequently edited\n",
    "- stored and retrieved"
   ]
  },
  {
   "cell_type": "code",
   "execution_count": 3,
   "metadata": {},
   "outputs": [
    {
     "data": {
      "text/plain": [
       "py4DSTEM.file.datastructure.metadata.Metadata"
      ]
     },
     "execution_count": 3,
     "metadata": {},
     "output_type": "execute_result"
    }
   ],
   "source": [
    "# Whenever data is loaded, a Metadata object is created.\n",
    "# This is associated with whatever DataObject (often a DataCube) that's created to store the data, and is\n",
    "# accessible as an attribute of the dataobject\n",
    "\n",
    "type(dc.metadata)"
   ]
  },
  {
   "cell_type": "code",
   "execution_count": 4,
   "metadata": {},
   "outputs": [
    {
     "data": {
      "text/plain": [
       "dict_keys(['microscope', 'sample', 'user', 'calibration', 'comments', 'original_metadata', '_search_dicts'])"
      ]
     },
     "execution_count": 4,
     "metadata": {},
     "output_type": "execute_result"
    }
   ],
   "source": [
    "# A Metadata instance contains metadata in five dictionaries: microscope, sample, user, calibration, and comments\n",
    "\n",
    "dc.metadata.__dict__.keys()"
   ]
  },
  {
   "cell_type": "code",
   "execution_count": 5,
   "metadata": {},
   "outputs": [
    {
     "data": {
      "text/plain": [
       "{'accelerating_voltage': 300.0,\n",
       " 'accelerating_voltage_units': '',\n",
       " 'camera_length': 195.0,\n",
       " 'camera_length_units': '',\n",
       " 'C2_aperture': '',\n",
       " 'convergence_semiangle_mrad': '',\n",
       " 'spot_size': '',\n",
       " 'scan_rotation_degrees': '',\n",
       " 'dwell_time': '',\n",
       " 'dwell_time_units': '',\n",
       " 'scan_size_Ny': '',\n",
       " 'scan_size_Nx': '',\n",
       " 'R_pix_size': '',\n",
       " 'R_pix_units': '',\n",
       " 'K_pix_size': '',\n",
       " 'K_pix_units': '',\n",
       " 'probe_FWHM_nm': '',\n",
       " 'acquisition_date': '',\n",
       " 'original_filename': '1_10x10 ss=100 alpha=p48 spot 11 cl=1200 300kV RT bin=4 0p5sec.dm3'}"
      ]
     },
     "execution_count": 5,
     "metadata": {},
     "output_type": "execute_result"
    }
   ],
   "source": [
    "# Each dictionary contains key-value pairs of relevant information\n",
    "\n",
    "dc.metadata.microscope"
   ]
  },
  {
   "cell_type": "code",
   "execution_count": 6,
   "metadata": {},
   "outputs": [
    {
     "data": {
      "text/plain": [
       "300.0"
      ]
     },
     "execution_count": 6,
     "metadata": {},
     "output_type": "execute_result"
    }
   ],
   "source": [
    "dc.metadata.microscope['accelerating_voltage']"
   ]
  },
  {
   "cell_type": "code",
   "execution_count": 7,
   "metadata": {},
   "outputs": [
    {
     "data": {
      "text/plain": [
       "300.0"
      ]
     },
     "execution_count": 7,
     "metadata": {},
     "output_type": "execute_result"
    }
   ],
   "source": [
    "# You can get the value of some field directly through the dictionaries, or with the get_metadata_item() method\n",
    "\n",
    "dc.metadata.get_metadata_item('accelerating_voltage')"
   ]
  },
  {
   "cell_type": "code",
   "execution_count": 8,
   "metadata": {},
   "outputs": [
    {
     "data": {
      "text/plain": [
       "├── Acquisition_instrument\n",
       "│   └── TEM\n",
       "│       ├── acquisition_mode = TEM\n",
       "│       ├── beam_current = 0.005\n",
       "│       ├── beam_energy = 300.0\n",
       "│       ├── camera_length = 195.0\n",
       "│       ├── magnification = 1200.0\n",
       "│       └── microscope = FEI Tecnai Remote\n",
       "├── General\n",
       "│   ├── date = 2018-06-11\n",
       "│   ├── original_filename = 1_10x10 ss=100 alpha=p48 spot 11 cl=1200 300kV RT bin=4 0p5sec.dm3\n",
       "│   ├── time = 16:22:54\n",
       "│   └── title = 1_10x10 ss=100 alpha=p48 spot 11 cl=1200 300kV RT bin=4 0p5sec\n",
       "└── Signal\n",
       "    ├── Noise_properties\n",
       "    │   └── Variance_linear_model\n",
       "    │       ├── gain_factor = 1.0\n",
       "    │       └── gain_offset = 0.0\n",
       "    ├── binned = False\n",
       "    ├── quantity = Intensity\n",
       "    └── signal_type = "
      ]
     },
     "execution_count": 8,
     "metadata": {},
     "output_type": "execute_result"
    }
   ],
   "source": [
    "# For files loaded with hyperspy, metadata is first loaded into the hyperspy DictionaryTreeBrowser object, then\n",
    "# these are searched and used to populate the py4DSTEM metadata dictionaries.  The original hyperspy trees are\n",
    "# also saved, in metadata.original_metadata.shortlist and metadata.original_metadata.all\n",
    "\n",
    "dc.metadata.original_metadata.shortlist"
   ]
  },
  {
   "cell_type": "code",
   "execution_count": 9,
   "metadata": {},
   "outputs": [
    {
     "name": "stdout",
     "output_type": "stream",
     "text": [
      "beam_current = 0.005\n"
     ]
    }
   ],
   "source": [
    "# You can search and retrieve items from these hyperspy objects with\n",
    "\n",
    "key = 'beam_current'\n",
    "found, val = dc.metadata.search_hs_tree(key, dc.metadata.original_metadata.shortlist)\n",
    "\n",
    "if found:\n",
    "    print('{} = {}'.format(key,val))\n",
    "else:\n",
    "    print('{} not found'.format(key))"
   ]
  },
  {
   "cell_type": "code",
   "execution_count": 10,
   "metadata": {},
   "outputs": [
    {
     "data": {
      "text/plain": [
       "{'accelerating_voltage': 300.0,\n",
       " 'accelerating_voltage_units': '',\n",
       " 'camera_length': 195.0,\n",
       " 'camera_length_units': '',\n",
       " 'C2_aperture': '',\n",
       " 'convergence_semiangle_mrad': '',\n",
       " 'spot_size': 9,\n",
       " 'scan_rotation_degrees': '',\n",
       " 'dwell_time': '',\n",
       " 'dwell_time_units': '',\n",
       " 'scan_size_Ny': '',\n",
       " 'scan_size_Nx': '',\n",
       " 'R_pix_size': '',\n",
       " 'R_pix_units': '',\n",
       " 'K_pix_size': '',\n",
       " 'K_pix_units': '',\n",
       " 'probe_FWHM_nm': '',\n",
       " 'acquisition_date': '',\n",
       " 'original_filename': '1_10x10 ss=100 alpha=p48 spot 11 cl=1200 300kV RT bin=4 0p5sec.dm3'}"
      ]
     },
     "execution_count": 10,
     "metadata": {},
     "output_type": "execute_result"
    }
   ],
   "source": [
    "# Metadata can be altered directly in the dictionaries\n",
    "\n",
    "dc.metadata.microscope['spot_size'] = 9\n",
    "dc.metadata.microscope"
   ]
  },
  {
   "cell_type": "code",
   "execution_count": null,
   "metadata": {},
   "outputs": [],
   "source": []
  },
  {
   "cell_type": "markdown",
   "metadata": {},
   "source": [
    "### Association with data"
   ]
  },
  {
   "cell_type": "code",
   "execution_count": 11,
   "metadata": {},
   "outputs": [],
   "source": [
    "# When a new DataObject is created, by default it is not associated with any metadata\n",
    "\n",
    "diffslice = py4DSTEM.file.datastructure.DiffractionSlice(data=np.zeros((50,50)))\n",
    "assert(diffslice.metadata is None)"
   ]
  },
  {
   "cell_type": "code",
   "execution_count": 12,
   "metadata": {},
   "outputs": [],
   "source": [
    "# Instead, metadata can be attached to a DataObject on instantiation using the metadata kwarg.\n",
    "# We can pass to metadata either a Metadata object directly, or a DataObject which already has metadata - \n",
    "# thus the two lines of code below are completely equivalent\n",
    "\n",
    "diffslice = py4DSTEM.file.datastructure.DiffractionSlice(data=np.zeros((50,50)),metadata=dc.metadata)\n",
    "diffslice = py4DSTEM.file.datastructure.DiffractionSlice(data=np.zeros((50,50)),metadata=dc)"
   ]
  },
  {
   "cell_type": "code",
   "execution_count": 13,
   "metadata": {},
   "outputs": [
    {
     "data": {
      "text/plain": [
       "<py4DSTEM.file.datastructure.metadata.Metadata at 0x7f3529a34278>"
      ]
     },
     "execution_count": 13,
     "metadata": {},
     "output_type": "execute_result"
    }
   ],
   "source": [
    "diffslice.metadata"
   ]
  },
  {
   "cell_type": "code",
   "execution_count": 14,
   "metadata": {},
   "outputs": [
    {
     "data": {
      "text/plain": [
       "{'accelerating_voltage': 300.0,\n",
       " 'accelerating_voltage_units': '',\n",
       " 'camera_length': 195.0,\n",
       " 'camera_length_units': '',\n",
       " 'C2_aperture': '',\n",
       " 'convergence_semiangle_mrad': '',\n",
       " 'spot_size': 9,\n",
       " 'scan_rotation_degrees': '',\n",
       " 'dwell_time': '',\n",
       " 'dwell_time_units': '',\n",
       " 'scan_size_Ny': '',\n",
       " 'scan_size_Nx': '',\n",
       " 'R_pix_size': '',\n",
       " 'R_pix_units': '',\n",
       " 'K_pix_size': '',\n",
       " 'K_pix_units': '',\n",
       " 'probe_FWHM_nm': '',\n",
       " 'acquisition_date': '',\n",
       " 'original_filename': '1_10x10 ss=100 alpha=p48 spot 11 cl=1200 300kV RT bin=4 0p5sec.dm3'}"
      ]
     },
     "execution_count": 14,
     "metadata": {},
     "output_type": "execute_result"
    }
   ],
   "source": [
    "# Under the hood, there is now a single Metadata object and both dc and diffslice point to it.\n",
    "# So if we change the metadata of diffslice, it will change in dc as well\n",
    "\n",
    "diffslice.metadata.microscope"
   ]
  },
  {
   "cell_type": "code",
   "execution_count": 15,
   "metadata": {},
   "outputs": [
    {
     "data": {
      "text/plain": [
       "7"
      ]
     },
     "execution_count": 15,
     "metadata": {},
     "output_type": "execute_result"
    }
   ],
   "source": [
    "diffslice.metadata.microscope['spot_size'] = 7\n",
    "dc.metadata.get_metadata_item('spot_size')"
   ]
  },
  {
   "cell_type": "code",
   "execution_count": 16,
   "metadata": {},
   "outputs": [
    {
     "name": "stdout",
     "output_type": "stream",
     "text": [
      "7\n",
      "3\n"
     ]
    }
   ],
   "source": [
    "# If we need to decouple the metadata of two objects - for instance, if we want to resample diffslice but not dc,\n",
    "# so that their dimensions and pixel sizes will not differ - all DataObjects have a new_metadata() method which\n",
    "# generates a new, distinct copy of a Metadata object which only that DataObject points to.\n",
    "\n",
    "# With no arguments, dataobject.new_metadata() takes the dataobject's current metadata, copies it, and reassigns\n",
    "# dataobject.metadata to the copy.\n",
    "diffslice.new_metadata()\n",
    "diffslice.metadata.microscope['spot_size'] = 3\n",
    "print(dc.metadata.get_metadata_item('spot_size'))\n",
    "print(diffslice.metadata.get_metadata_item('spot_size'))"
   ]
  },
  {
   "cell_type": "code",
   "execution_count": 17,
   "metadata": {},
   "outputs": [
    {
     "name": "stdout",
     "output_type": "stream",
     "text": [
      "7\n",
      "7\n",
      "7\n",
      "3\n"
     ]
    }
   ],
   "source": [
    "# Alternatively, we can pass dataobject.new_metadata() the keyword metadata, pointing to either a Metadata object\n",
    "# or a DataCube which possesses a metadata object.  In each case, the final outcome is that dataobject will have\n",
    "# it's own new copy of the metadata.\n",
    "\n",
    "diffslice.new_metadata(metadata = dc)\n",
    "print(dc.metadata.get_metadata_item('spot_size'))\n",
    "print(diffslice.metadata.get_metadata_item('spot_size'))\n",
    "diffslice.metadata.microscope['spot_size'] = 3\n",
    "print(dc.metadata.get_metadata_item('spot_size'))\n",
    "print(diffslice.metadata.get_metadata_item('spot_size'))"
   ]
  },
  {
   "cell_type": "code",
   "execution_count": 18,
   "metadata": {},
   "outputs": [],
   "source": [
    "# For testing purposes in a moment, we'll make one more dataobject, this time which shares the metadata\n",
    "# associated with dc\n",
    "\n",
    "realslice = py4DSTEM.file.datastructure.RealSlice(data=np.zeros((20,20)), metadata=dc)"
   ]
  },
  {
   "cell_type": "code",
   "execution_count": null,
   "metadata": {},
   "outputs": [],
   "source": []
  },
  {
   "cell_type": "markdown",
   "metadata": {},
   "source": [
    "### Saving and loading\n",
    "\n",
    "When saving many dataobjects, the .h5 file will contain a separate metadata group for each distinct metadata object associated with the dataobjects being saved.  When loading, dataobjects with distinct metadata will have unique metadata objects created and associated with them, while dataobject with the same metadata will all link to the same metadata object."
   ]
  },
  {
   "cell_type": "code",
   "execution_count": 19,
   "metadata": {},
   "outputs": [
    {
     "name": "stdout",
     "output_type": "stream",
     "text": [
      "Creating file /home/ben/Desktop/test.h5...\n",
      "Done.\n"
     ]
    }
   ],
   "source": [
    "# Save three dataobjects, which have 2 distinct metadataobjects associated with them\n",
    "\n",
    "fp = \"/home/ben/Desktop/test.h5\"\n",
    "save([dc,diffslice,realslice],fp)"
   ]
  },
  {
   "cell_type": "code",
   "execution_count": 20,
   "metadata": {},
   "outputs": [
    {
     "name": "stdout",
     "output_type": "stream",
     "text": [
      " Index                  Name                        Type        \n",
      "   0    datacube_0                          DataCube            \n",
      "   1    diffractionslice_0                  DiffractionSlice    \n",
      "   2    realslice_0                         RealSlice           \n"
     ]
    }
   ],
   "source": [
    "browser = FileBrowser(fp)\n",
    "browser.show_dataobjects()"
   ]
  },
  {
   "cell_type": "code",
   "execution_count": 21,
   "metadata": {},
   "outputs": [],
   "source": [
    "# Load all three objects\n",
    "\n",
    "dc_new = browser.get_dataobject(0)\n",
    "diffslice_new = browser.get_dataobject(1)\n",
    "realslice_new = browser.get_dataobject(2)\n",
    "browser.close()"
   ]
  },
  {
   "cell_type": "code",
   "execution_count": null,
   "metadata": {},
   "outputs": [],
   "source": [
    "# dc_new and realslice_new point to the same Metadata instance\n",
    "\n",
    "dc_new.metadata == realslice_new.metadata"
   ]
  },
  {
   "cell_type": "code",
   "execution_count": null,
   "metadata": {},
   "outputs": [],
   "source": [
    "# dc_new and diffslice_new point to different Metadata instances\n",
    "\n",
    "dc_new.metadata == diffslice_new.metadata"
   ]
  },
  {
   "cell_type": "code",
   "execution_count": 26,
   "metadata": {},
   "outputs": [
    {
     "data": {
      "text/plain": [
       "{'C2_aperture': '',\n",
       " 'K_pix_size': '',\n",
       " 'K_pix_units': '',\n",
       " 'R_pix_size': '',\n",
       " 'R_pix_units': '',\n",
       " 'accelerating_voltage': 300.0,\n",
       " 'accelerating_voltage_units': '',\n",
       " 'acquisition_date': '',\n",
       " 'camera_length': 195.0,\n",
       " 'camera_length_units': '',\n",
       " 'convergence_semiangle_mrad': '',\n",
       " 'dwell_time': '',\n",
       " 'dwell_time_units': '',\n",
       " 'original_filename': '1_10x10 ss=100 alpha=p48 spot 11 cl=1200 300kV RT bin=4 0p5sec.dm3',\n",
       " 'probe_FWHM_nm': '',\n",
       " 'scan_rotation_degrees': '',\n",
       " 'scan_size_Nx': '',\n",
       " 'scan_size_Ny': '',\n",
       " 'spot_size': 7}"
      ]
     },
     "execution_count": 26,
     "metadata": {},
     "output_type": "execute_result"
    }
   ],
   "source": [
    "# The metadata was correctly saved, stored, and loaded\n",
    "\n",
    "dc_new.metadata.microscope"
   ]
  },
  {
   "cell_type": "code",
   "execution_count": 27,
   "metadata": {},
   "outputs": [
    {
     "data": {
      "text/plain": [
       "{'C2_aperture': '',\n",
       " 'K_pix_size': '',\n",
       " 'K_pix_units': '',\n",
       " 'R_pix_size': '',\n",
       " 'R_pix_units': '',\n",
       " 'accelerating_voltage': 300.0,\n",
       " 'accelerating_voltage_units': '',\n",
       " 'acquisition_date': '',\n",
       " 'camera_length': 195.0,\n",
       " 'camera_length_units': '',\n",
       " 'convergence_semiangle_mrad': '',\n",
       " 'dwell_time': '',\n",
       " 'dwell_time_units': '',\n",
       " 'original_filename': '1_10x10 ss=100 alpha=p48 spot 11 cl=1200 300kV RT bin=4 0p5sec.dm3',\n",
       " 'probe_FWHM_nm': '',\n",
       " 'scan_rotation_degrees': '',\n",
       " 'scan_size_Nx': '',\n",
       " 'scan_size_Ny': '',\n",
       " 'spot_size': 3}"
      ]
     },
     "execution_count": 27,
     "metadata": {},
     "output_type": "execute_result"
    }
   ],
   "source": [
    "diffslice_new.metadata.microscope"
   ]
  },
  {
   "cell_type": "code",
   "execution_count": null,
   "metadata": {},
   "outputs": [],
   "source": []
  },
  {
   "cell_type": "markdown",
   "metadata": {},
   "source": [
    "### Editing / adding metadata"
   ]
  },
  {
   "cell_type": "code",
   "execution_count": 36,
   "metadata": {},
   "outputs": [],
   "source": [
    "# Adding new metadata is the same as editing existing metadata - just use the appropriate dictionaries:\n",
    "\n",
    "dc.metadata.sample['sample'] = 'no moon; a space station'"
   ]
  },
  {
   "cell_type": "code",
   "execution_count": 37,
   "metadata": {},
   "outputs": [
    {
     "data": {
      "text/plain": [
       "'no moon; a space station'"
      ]
     },
     "execution_count": 37,
     "metadata": {},
     "output_type": "execute_result"
    }
   ],
   "source": [
    "dc.metadata.get_metadata_item('sample')"
   ]
  },
  {
   "cell_type": "code",
   "execution_count": 38,
   "metadata": {},
   "outputs": [],
   "source": [
    "comment = \"Don't be too proud of this technological terror you've constructed. \" + \\\n",
    "          \"The ability to destroy a planet is insignificant next to the power of the force.\"\n",
    "\n",
    "dc.metadata.comments[\"DVs cautionary\"] = comment"
   ]
  },
  {
   "cell_type": "code",
   "execution_count": 39,
   "metadata": {},
   "outputs": [
    {
     "data": {
      "text/plain": [
       "\"Don't be too proud of this technological terror you've constructed. The ability to destroy a planet is insignificant next to the power of the force.\""
      ]
     },
     "execution_count": 39,
     "metadata": {},
     "output_type": "execute_result"
    }
   ],
   "source": [
    "dc.metadata.get_metadata_item('DVs cautionary')"
   ]
  },
  {
   "cell_type": "code",
   "execution_count": 40,
   "metadata": {},
   "outputs": [],
   "source": [
    "# To tell py4DSTEM to automatically scrape an item of metadata from the DictionaryTreeBrowsers on load, edit\n",
    "# the Metadata method setup_search_dicts(), in ./process/datastructure/metadata.py, with key:value pairs specifying the py4DSTEM:hyperspy strings associated\n",
    "# with the metadata item of interest\n",
    "\n",
    "dc.metadata.setup_search_dicts?"
   ]
  },
  {
   "cell_type": "code",
   "execution_count": null,
   "metadata": {},
   "outputs": [],
   "source": []
  },
  {
   "cell_type": "code",
   "execution_count": null,
   "metadata": {},
   "outputs": [],
   "source": []
  }
 ],
 "metadata": {
  "anaconda-cloud": {},
  "kernelspec": {
   "display_name": "Python 3",
   "language": "python",
   "name": "python3"
  },
  "language_info": {
   "codemirror_mode": {
    "name": "ipython",
    "version": 3
   },
   "file_extension": ".py",
   "mimetype": "text/x-python",
   "name": "python",
   "nbconvert_exporter": "python",
   "pygments_lexer": "ipython3",
   "version": "3.7.3"
  }
 },
 "nbformat": 4,
 "nbformat_minor": 2
}
