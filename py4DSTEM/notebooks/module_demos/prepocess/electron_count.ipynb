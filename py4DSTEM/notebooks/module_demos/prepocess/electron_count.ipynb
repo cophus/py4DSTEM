{
 "cells": [
  {
   "cell_type": "code",
   "execution_count": 8,
   "metadata": {},
   "outputs": [],
   "source": [
    "import numpy as np\n",
    "import matplotlib.pyplot as plt\n",
    "import py4DSTEM\n",
    "import hyperspy.api as hs\n",
    "\n",
    "#from py4DSTEM.process.preprocess import get_darkreference, electron_count"
   ]
  },
  {
   "cell_type": "code",
   "execution_count": 9,
   "metadata": {},
   "outputs": [
    {
     "name": "stdout",
     "output_type": "stream",
     "text": [
      "/home/ben/Data/20190227_e_counting__AmSi_HamishBrown/Capture33.dm4 is not a py4DSTEM file.\n",
      "/home/ben/Data/20190227_e_counting__AmSi_HamishBrown/Capture33.dm4 is a DM file. Reading with dm.py...\n",
      "Warning: scan shape not detected in metadata; please check / set manually.\n"
     ]
    }
   ],
   "source": [
    "fp = \"/home/ben/Data/20190227_e_counting__AmSi_HamishBrown/Capture33.dm4\"\n",
    "dc = py4DSTEM.file.readwrite.read(fp)"
   ]
  },
  {
   "cell_type": "code",
   "execution_count": null,
   "metadata": {},
   "outputs": [],
   "source": []
  },
  {
   "cell_type": "code",
   "execution_count": null,
   "metadata": {},
   "outputs": [],
   "source": []
  },
  {
   "cell_type": "code",
   "execution_count": null,
   "metadata": {},
   "outputs": [],
   "source": []
  }
 ],
 "metadata": {
  "kernelspec": {
   "display_name": "Python 3",
   "language": "python",
   "name": "python3"
  },
  "language_info": {
   "codemirror_mode": {
    "name": "ipython",
    "version": 3
   },
   "file_extension": ".py",
   "mimetype": "text/x-python",
   "name": "python",
   "nbconvert_exporter": "python",
   "pygments_lexer": "ipython3",
   "version": "3.7.0"
  }
 },
 "nbformat": 4,
 "nbformat_minor": 2
}
