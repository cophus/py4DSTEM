{
 "cells": [
  {
   "cell_type": "markdown",
   "metadata": {},
   "source": [
    "# py4DSTEM tutorial 1: Introduction\n",
    "\n",
    "This tutorial introduces py4DSTEM, an python-based analysis package for 4D-STEM data, and demonstrates how to create a strain map from a 4D-STEM datacube.\n",
    "\n",
    "This notebook includes with\n",
    "- Interacting with DataCubes: how to load, slice, and display 4D data\n",
    "- Filehandling: how to save and load data"
   ]
  },
  {
   "cell_type": "code",
   "execution_count": 1,
   "metadata": {},
   "outputs": [],
   "source": [
    "import numpy as np\n",
    "import matplotlib.pyplot as plt\n",
    "import py4DSTEM"
   ]
  },
  {
   "cell_type": "markdown",
   "metadata": {},
   "source": [
    "### Datacubes"
   ]
  },
  {
   "cell_type": "code",
   "execution_count": null,
   "metadata": {},
   "outputs": [],
   "source": [
    "# Load a datacube\n",
    "\n",
    "fp = \"/home/ben/Data/20180905_FePO4_unlithiated/h5/Sample_LFP_datacube.h5\"\n",
    "dc = py4DSTEM.file.io.read(fp)"
   ]
  },
  {
   "cell_type": "markdown",
   "metadata": {},
   "source": [
    "The `dc` variable we've just defined is a py4DSTEM `DataCube` object.\n",
    "\n",
    "##### Exercises:\n",
    "\n",
    "- where does its data live?\n",
    "- what is the shape of the data?"
   ]
  },
  {
   "cell_type": "code",
   "execution_count": 37,
   "metadata": {},
   "outputs": [
    {
     "data": {
      "text/plain": [
       "<py4DSTEM.file.datastructure.datacube.DataCube at 0x7f8a61f8fdd8>"
      ]
     },
     "execution_count": 37,
     "metadata": {},
     "output_type": "execute_result"
    }
   ],
   "source": [
    "dc"
   ]
  },
  {
   "cell_type": "markdown",
   "metadata": {},
   "source": [
    "The code below creates a figure with two plots...\n",
    "\n",
    "##### Exercises:\n",
    "- add to the plot on the left a single diffraction pattern from scan position $(x,y) = (30,36)$\n",
    "- add to the plot on the right an image of the sample\n",
    "- add to the plot on the right a marker showing scan position $(30,36)$"
   ]
  },
  {
   "cell_type": "code",
   "execution_count": 41,
   "metadata": {},
   "outputs": [
    {
     "data": {
      "image/png": "[encoded data removed]",
      "text/plain": [
       "<Figure size 864x432 with 2 Axes>"
      ]
     },
     "metadata": {
      "needs_background": "light"
     },
     "output_type": "display_data"
    }
   ],
   "source": [
    "# Show\n",
    "\n",
    "fig,(ax1,ax2)=plt.subplots(1,2,figsize=(12,6))\n",
    "ax1.matshow(  np.ones((10,10))  )\n",
    "ax2.matshow(  np.ones((10,10))  )\n",
    "plt.show()"
   ]
  },
  {
   "cell_type": "code",
   "execution_count": null,
   "metadata": {},
   "outputs": [],
   "source": []
  },
  {
   "cell_type": "markdown",
   "metadata": {},
   "source": [
    "### Filehandling - saving and loading\n",
    "\n",
    "For reading a writing files, py4DSTEM bundles python arrays into the following objects:\n",
    "- DataCube\n",
    "- RealSlice\n",
    "- DiffractionSlice\n",
    "- PointList\n",
    "- PointListArray\n",
    "\n",
    "Below we'll look at how to use these objects to save parts of our analysis, and then load them again later."
   ]
  },
  {
   "cell_type": "code",
   "execution_count": 48,
   "metadata": {},
   "outputs": [
    {
     "name": "stdout",
     "output_type": "stream",
     "text": [
      "Creating file /home/ben/Desktop/sample_processing_file.h5...\n",
      "Done.\n"
     ]
    }
   ],
   "source": [
    "# Let's say we want to save the virtual image we created in a new file.\n",
    "# The syntax is:\n",
    "\n",
    "image = np.average(dc.data, axis=(2,3))\n",
    "image_real_slice = py4DSTEM.file.datastructure.RealSlice(data=image, name='my_virtual_image')\n",
    "\n",
    "savepath = \"/home/ben/Desktop/sample_processing_file.h5\"\n",
    "py4DSTEM.file.io.save(image_real_slice, savepath)"
   ]
  },
  {
   "cell_type": "code",
   "execution_count": 49,
   "metadata": {},
   "outputs": [
    {
     "name": "stdout",
     "output_type": "stream",
     "text": [
      "Opening file /home/ben/Desktop/sample_processing_file.h5...\n",
      "Done.\n"
     ]
    }
   ],
   "source": [
    "# Now let's say we want to add to this file several diffraction patterns at various scan positions.\n",
    "\n",
    "dp_data = np.zeros((dc.Q_Nx,dc.Q_Ny,3))\n",
    "dp_data[:,:,0] = dc.data[0,0,:,:]\n",
    "dp_data[:,:,1] = dc.data[10,20,:,:]\n",
    "dp_data[:,:,2] = dc.data[30,36,:,:]\n",
    "\n",
    "dp_diffraction_slice = py4DSTEM.file.datastructure.DiffractionSlice(data=dp_data,\n",
    "                                                                    name = 'diffraction_patterns',\n",
    "                                                                    slicelabels=['dp1','dp2','dp3'])\n",
    "\n",
    "py4DSTEM.file.io.append(dp_diffraction_slice, savepath)  # Note the change from 'save' to 'append'!"
   ]
  },
  {
   "cell_type": "code",
   "execution_count": 50,
   "metadata": {},
   "outputs": [],
   "source": [
    "# Let's remove these objects from memory and then reload them to make sure everything worked...\n",
    "\n",
    "del image_real_slice, dp_diffraction_slice"
   ]
  },
  {
   "cell_type": "code",
   "execution_count": 51,
   "metadata": {},
   "outputs": [
    {
     "name": "stdout",
     "output_type": "stream",
     "text": [
      " Index                  Name                        Type        \n",
      "   0    diffraction_patterns                DiffractionSlice    \n",
      "   1    my_virtual_image                    RealSlice           \n"
     ]
    }
   ],
   "source": [
    "# We can look at what's in a file before loading with a Filebrowser\n",
    "\n",
    "browser = py4DSTEM.file.io.FileBrowser(savepath)\n",
    "browser.show_dataobjects()"
   ]
  },
  {
   "cell_type": "code",
   "execution_count": 52,
   "metadata": {},
   "outputs": [],
   "source": [
    "# Now we can load these by name:\n",
    "\n",
    "image_real_slice = browser.get_dataobject('my_virtual_image')"
   ]
  },
  {
   "cell_type": "code",
   "execution_count": 54,
   "metadata": {},
   "outputs": [
    {
     "data": {
      "image/png": "[encoded data removed]",
      "text/plain": [
       "<Figure size 432x288 with 1 Axes>"
      ]
     },
     "metadata": {
      "needs_background": "light"
     },
     "output_type": "display_data"
    }
   ],
   "source": [
    "# Finally, we'll plot the image to make sure everything worked as expected:\n",
    "\n",
    "fig,ax = plt.subplots()\n",
    "ax.matshow(image_real_slice.data)\n",
    "plt.show()"
   ]
  },
  {
   "cell_type": "code",
   "execution_count": null,
   "metadata": {},
   "outputs": [],
   "source": []
  }
 ],
 "metadata": {
  "kernelspec": {
   "display_name": "Python 3",
   "language": "python",
   "name": "python3"
  },
  "language_info": {
   "codemirror_mode": {
    "name": "ipython",
    "version": 3
   },
   "file_extension": ".py",
   "mimetype": "text/x-python",
   "name": "python",
   "nbconvert_exporter": "python",
   "pygments_lexer": "ipython3",
   "version": "3.7.3"
  }
 },
 "nbformat": 4,
 "nbformat_minor": 2
}
