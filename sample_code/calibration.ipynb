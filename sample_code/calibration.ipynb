{
 "cells": [
  {
   "cell_type": "markdown",
   "metadata": {},
   "source": [
    "# Unfortunately this notebook will not run in binder"
   ]
  },
  {
   "cell_type": "markdown",
   "metadata": {
    "toc": true
   },
   "source": [
    "<h1>Table of Contents<span class=\"tocSkip\"></span></h1>\n",
    "<div class=\"toc\"><ul class=\"toc-item\"><li><span><a href=\"#Unfortunately-this-notebook-will-not-run-in-binder\" data-toc-modified-id=\"Unfortunately-this-notebook-will-not-run-in-binder-1\"><span class=\"toc-item-num\">1&nbsp;&nbsp;</span>Unfortunately this notebook will not run in binder</a></span></li><li><span><a href=\"#Calibration\" data-toc-modified-id=\"Calibration-2\"><span class=\"toc-item-num\">2&nbsp;&nbsp;</span>Calibration</a></span><ul class=\"toc-item\"><li><ul class=\"toc-item\"><li><span><a href=\"#Data\" data-toc-modified-id=\"Data-2.0.1\"><span class=\"toc-item-num\">2.0.1&nbsp;&nbsp;</span>Data</a></span></li><li><span><a href=\"#Version-info\" data-toc-modified-id=\"Version-info-2.0.2\"><span class=\"toc-item-num\">2.0.2&nbsp;&nbsp;</span>Version info</a></span></li></ul></li><li><span><a href=\"#Load-and-examine-the-data\" data-toc-modified-id=\"Load-and-examine-the-data-2.1\"><span class=\"toc-item-num\">2.1&nbsp;&nbsp;</span>Load and examine the data</a></span><ul class=\"toc-item\"><li><span><a href=\"#Vacuum-probe\" data-toc-modified-id=\"Vacuum-probe-2.1.1\"><span class=\"toc-item-num\">2.1.1&nbsp;&nbsp;</span>Vacuum probe</a></span></li><li><span><a href=\"#Calibration-dataset-(Poly-Au)\" data-toc-modified-id=\"Calibration-dataset-(Poly-Au)-2.1.2\"><span class=\"toc-item-num\">2.1.2&nbsp;&nbsp;</span>Calibration dataset (Poly Au)</a></span><ul class=\"toc-item\"><li><span><a href=\"#Diffraction-shift-correction\" data-toc-modified-id=\"Diffraction-shift-correction-2.1.2.1\"><span class=\"toc-item-num\">2.1.2.1&nbsp;&nbsp;</span>Diffraction shift correction</a></span></li><li><span><a href=\"#Elliptical-distortion-correction\" data-toc-modified-id=\"Elliptical-distortion-correction-2.1.2.2\"><span class=\"toc-item-num\">2.1.2.2&nbsp;&nbsp;</span>Elliptical distortion correction</a></span></li><li><span><a href=\"#Pixel-size-calibration\" data-toc-modified-id=\"Pixel-size-calibration-2.1.2.3\"><span class=\"toc-item-num\">2.1.2.3&nbsp;&nbsp;</span>Pixel size calibration</a></span></li></ul></li><li><span><a href=\"#Save-calibration-measurements\" data-toc-modified-id=\"Save-calibration-measurements-2.1.3\"><span class=\"toc-item-num\">2.1.3&nbsp;&nbsp;</span>Save calibration measurements</a></span></li><li><span><a href=\"#Apply-calibrations\" data-toc-modified-id=\"Apply-calibrations-2.1.4\"><span class=\"toc-item-num\">2.1.4&nbsp;&nbsp;</span>Apply calibrations</a></span><ul class=\"toc-item\"><li><span><a href=\"#Diffraction-shift-correction\" data-toc-modified-id=\"Diffraction-shift-correction-2.1.4.1\"><span class=\"toc-item-num\">2.1.4.1&nbsp;&nbsp;</span>Diffraction shift correction</a></span></li><li><span><a href=\"#Elliptical-distortion-correction\" data-toc-modified-id=\"Elliptical-distortion-correction-2.1.4.2\"><span class=\"toc-item-num\">2.1.4.2&nbsp;&nbsp;</span>Elliptical distortion correction</a></span></li><li><span><a href=\"#Pixel-size-calibration\" data-toc-modified-id=\"Pixel-size-calibration-2.1.4.3\"><span class=\"toc-item-num\">2.1.4.3&nbsp;&nbsp;</span>Pixel size calibration</a></span></li></ul></li><li><span><a href=\"#Save\" data-toc-modified-id=\"Save-2.1.5\"><span class=\"toc-item-num\">2.1.5&nbsp;&nbsp;</span>Save</a></span></li><li><span><a href=\"#Rotational-calibration\" data-toc-modified-id=\"Rotational-calibration-2.1.6\"><span class=\"toc-item-num\">2.1.6&nbsp;&nbsp;</span>Rotational calibration</a></span><ul class=\"toc-item\"><li><span><a href=\"#Save\" data-toc-modified-id=\"Save-2.1.6.1\"><span class=\"toc-item-num\">2.1.6.1&nbsp;&nbsp;</span>Save</a></span></li></ul></li></ul></li></ul></li></ul></div>"
   ]
  },
  {
   "cell_type": "markdown",
   "metadata": {},
   "source": [
    "# Calibration\n",
    "---\n",
    "\n",
    "This notebook demonstates calibration of a 4DSTEM dataset of a crystalline sample.  It includes the following calibrations:\n",
    "\n",
    "- center position (i.e. the optic axis / origin of coordinates in diffraction space, which may vary with scan position)\n",
    "- elliptical distortions (i.e. the stretch/compression of diffraction space coordinates)\n",
    "- rotational offset (i.e. the orientational misalignment of real and diffraction space directions)\n",
    "- detector pixel size (i.e. the length of a diffraction space pixel)\n",
    "- convergence angle (i.e. the size of the probe-forming aperture)\n",
    "\n",
    "Good calibration is the heart of any quantitative measurement.  It will look different in different datasets and for different measurements and analyses.  Before calibrating a dataset, ask: what measurements are being performed, and what calibrations are required?\n",
    "\n",
    "The calibration workflow here is meant as a guide, and is neither perfect nor completely general.  It is imperfect: for instance, only the lowest order elliptical distortions are measured and corrected here, while higher order distortions are ignored.  It is not general: this workflow is designed to achieve high accuracy, high precision strain maps, including computing the absolute real space length scale of the local lattice, and including orienting the strain matrix components both relative to the crystal lattice and relative to the real space images; it is designed to do this when an additional 4D-STEM scan of a standard calibration sample has been acquired the same day as the experimental scans.  It is not designed, for instance, for amorphous signal analysis, for cases where a separate calibration scan was not acquired, or for any number of other types of analysis. Acquiring data from a separate calibration sample is not always necessary, as data can often be calibrated from the sample itself - and microscope time is precious, and swapping samples time consuming - even so, acquiring a separate scan of some standardized sample (e.g. Au nanocrystals, used here) with every experiment will ensure good calibration is possible!\n",
    "\n",
    "Here we focus on calibration for crystalline data, where the intended output is fully calibrated Bragg disk positions -- see also TKTKpolarellipticaltransform.ipynb for a case in which diffraction shift and elliptical distortion calibrations are applied somewhat differently.\n",
    "\n",
    "### Data\n",
    "This is simulated 4D-STEM data.  Simulations were performed by Colin Ophus.  The data has DOI number 10.5281/zenodo.3592520.\n",
    "\n",
    "To download the data, please go either [here](https://drive.google.com/file/d/1-w5v89phuT5_0MEaKe5cHx6IvmcbonE1/view?usp=sharing) or [here](https://zenodo.org/record/3592520#.X3YkDWpKjOR).  Assuming you're running the notebook on your local computer, you should then need to place the file somewhere on your filesystem, and in the cell immediately after this one, update the variable `filepath` to reflect that path to the file, then update `filepath` to set where you'll save the outputs.\n",
    "\n",
    "The data contained in this file is:\n",
    "\n",
    "- a 4D dataset containing the measurements of interest; in this case, simulated data of a strained single crystalline Au nanoplatelet\n",
    "- a 4D calibration dataset; in this case, polycrystalline Au nanoparticles\n",
    "- a 3D stack of images of the electron probe over vacuum\n",
    "- a 2D image of the electron probe over the sample and defocused until a shadow image is visible in the CBED pattern\n",
    "\n",
    "The purpose of these datasets is as follows:\n",
    "\n",
    "- 4D calibration dataset: used for the most accurate measurement of elliptical calibrations, and for absolute calibration of the detector pixel size using a known reference sample. Depending on the data, one or both of these may be calculable from the experimental 4D-STEM data itself, rather than from a separate calibration scan.\n",
    "- 3D stack of vacuum probe images: used to calculate a vacuum probe which is used in template matching / disk detection. This can also be calculated various other ways - for more see TKTKprobe_template_gerp.\n",
    "- 2D CBED shadow image: used for rotational calibration, in combinration with the 4D data of interest.  Necessary for strain mapping, and for orientation mapping.\n",
    "\n",
    "### Version info\n",
    "\n",
    "Last updated on 2020-10-02 with py4DSTEM version 0.11.2."
   ]
  },
  {
   "cell_type": "code",
   "execution_count": null,
   "metadata": {},
   "outputs": [],
   "source": [
    "import numpy as np\n",
    "import matplotlib.pyplot as plt\n",
    "import py4DSTEM\n",
    "import os\n",
    "import plat"
   ]
  },
  {
   "cell_type": "code",
   "execution_count": null,
   "metadata": {},
   "outputs": [],
   "source": [
    "if platform.system() != 'Windows':\n",
    "    !wget --no-check-certificate 'https://zenodo.org/record/3592520/files/calibrationData_circularProbe.h5?download=1' -O calibrationData_simulatedAuNanoplatelet.h5\n",
    "    filepath = \"calibrationData_simulatedAuNanoplatelet.h5\"\n",
    "else:\n",
    "    print('Sorry you need to download the file manually')\n",
    "    #filepath = <PATH TO calibrationData_simulationAuNanoplatelet.h5> "
   ]
  },
  {
   "cell_type": "markdown",
   "metadata": {},
   "source": [
    "## Load and examine the data"
   ]
  },
  {
   "cell_type": "code",
   "execution_count": null,
   "metadata": {},
   "outputs": [],
   "source": [
    "py4DSTEM.io.read(filepath)"
   ]
  },
  {
   "cell_type": "code",
   "execution_count": null,
   "metadata": {},
   "outputs": [],
   "source": [
    "datacube_sim = py4DSTEM.io.read(filepath,data_id='simulation_4DSTEM')\n",
    "datacube_cal = py4DSTEM.io.read(filepath,data_id='polyAu_4DSTEM')\n",
    "defocused_probe = py4DSTEM.io.read(filepath,data_id='defocused_probe')\n",
    "probe_template = py4DSTEM.io.read(filepath,data_id='probe_template')\n",
    "defocused_probe=defocused_probe.data\n",
    "probe_template=probe_template.data"
   ]
  },
  {
   "cell_type": "code",
   "execution_count": null,
   "metadata": {},
   "outputs": [],
   "source": [
    "# Examine the 4D dataset of interest\n",
    "dp_max_sim = np.max(datacube_sim.data,axis=(0,1))\n",
    "py4DSTEM.visualize.show(dp_max_sim)"
   ]
  },
  {
   "cell_type": "code",
   "execution_count": null,
   "metadata": {},
   "outputs": [],
   "source": [
    "# Bright-field image\n",
    "qx0,qy0 = 128,128\n",
    "qR = 20\n",
    "\n",
    "py4DSTEM.visualize.show_circ(dp_max_sim,center=(qx0,qy0),R=qR,alpha=0.25)\n",
    "BF_sim = py4DSTEM.process.virtualimage.get_virtualimage_circ(datacube_sim,qx0,qy0,qR)\n",
    "py4DSTEM.visualize.show(BF_sim,contrast='minmax')"
   ]
  },
  {
   "cell_type": "code",
   "execution_count": null,
   "metadata": {},
   "outputs": [],
   "source": [
    "# Examine the 4D calibration dataset\n",
    "dp_max_cal = np.max(datacube_cal.data,axis=(0,1))\n",
    "py4DSTEM.visualize.show(dp_max_cal)"
   ]
  },
  {
   "cell_type": "code",
   "execution_count": null,
   "metadata": {},
   "outputs": [],
   "source": [
    "# Bright-field image\n",
    "qx0,qy0 = 128,128\n",
    "qR = 20\n",
    "\n",
    "py4DSTEM.visualize.show_circ(dp_max_cal,center=(qx0,qy0),R=qR,alpha=0.25)\n",
    "BF_cal = py4DSTEM.process.virtualimage.get_virtualimage_circ(datacube_cal,qx0,qy0,qR)\n",
    "py4DSTEM.visualize.show(BF_cal,contrast='minmax')"
   ]
  },
  {
   "cell_type": "code",
   "execution_count": null,
   "metadata": {},
   "outputs": [],
   "source": [
    "# Examine the 3D vacuum probe stack\n",
    "py4DSTEM.visualize.show(probe_template[:,:,10],contrast='minmax')"
   ]
  },
  {
   "cell_type": "code",
   "execution_count": null,
   "metadata": {},
   "outputs": [],
   "source": [
    "# Examine the 2D CBED shadow image\n",
    "py4DSTEM.visualize.show(defocused_probe)"
   ]
  },
  {
   "cell_type": "markdown",
   "metadata": {},
   "source": [
    "### Vacuum probe"
   ]
  },
  {
   "cell_type": "code",
   "execution_count": null,
   "metadata": {},
   "outputs": [],
   "source": [
    "# Get the vacuum probe\n",
    "probe = np.sum(probe_template,axis=2)\n",
    "py4DSTEM.visualize.show(probe,contrast='minmax')"
   ]
  },
  {
   "cell_type": "code",
   "execution_count": null,
   "metadata": {},
   "outputs": [],
   "source": [
    "# Get the probe kernel\n",
    "probe_kernel = py4DSTEM.process.diskdetection.get_probe_kernel_subtrgaussian(probe,sigma_probe_scale=2.5)\n",
    "py4DSTEM.visualize.show_kernel(probe_kernel,R=30,L=100,W=3)"
   ]
  },
  {
   "cell_type": "markdown",
   "metadata": {},
   "source": [
    "### Calibration dataset (Poly Au)\n",
    "\n",
    "The calibration dataset will be used for two things:\n",
    "1) determining the elliptical distortions, and\n",
    "2) determining the detector (i.e. diffraction space) pixels size\n",
    "\n",
    "Note that this is performed in a somewhat computationally expensive way here -- first finding all the bragg disks, then computing and correcting the diffraction shifts, are performed just to achieve the two calibrations noted above.  Less expensive approaches may also be possible."
   ]
  },
  {
   "cell_type": "code",
   "execution_count": null,
   "metadata": {},
   "outputs": [],
   "source": [
    "# Select a few DPs on which to test disk detection parameters\n",
    "\n",
    "rxs_cal = 20,50,52\n",
    "rys_cal = 5,31,78\n",
    "colors = 'r','b','g'\n",
    "\n",
    "py4DSTEM.visualize.show_points(BF_cal,x=rxs_cal,y=rys_cal,point_color=colors,contrast='minmax',figsize=(8,8))\n",
    "py4DSTEM.visualize.show_image_grid(get_ar=lambda i:datacube_cal.data[rxs_cal[i],rys_cal[i],:,:],\n",
    "                                   H=1,W=3,get_bc=lambda i:colors[i])"
   ]
  },
  {
   "cell_type": "code",
   "execution_count": null,
   "metadata": {},
   "outputs": [],
   "source": [
    "# Tune disk detection parameters on selected DPs\n",
    "\n",
    "corrPower=1\n",
    "sigma=2\n",
    "edgeBoundary=10\n",
    "minRelativeIntensity=0.0005\n",
    "relativeToPeak=0\n",
    "minPeakSpacing=20\n",
    "maxNumPeaks=80\n",
    "subpixel='multicorr'\n",
    "upsample_factor=16\n",
    "\n",
    "selected_peaks = py4DSTEM.process.diskdetection.find_Bragg_disks_selected(\n",
    "                        datacube=datacube_cal,\n",
    "                        probe=probe_kernel,\n",
    "                        Rx=rxs_cal,\n",
    "                        Ry=rys_cal,\n",
    "                        corrPower=corrPower,\n",
    "                        sigma=sigma,\n",
    "                        edgeBoundary=edgeBoundary,\n",
    "                        minRelativeIntensity=minRelativeIntensity,\n",
    "                        relativeToPeak=relativeToPeak,\n",
    "                        minPeakSpacing=minPeakSpacing,\n",
    "                        maxNumPeaks=maxNumPeaks,\n",
    "                        subpixel=subpixel,\n",
    "                        upsample_factor=upsample_factor\n",
    ")\n",
    "\n",
    "py4DSTEM.visualize.show_points(BF_cal,x=rxs_cal,y=rys_cal,point_color=colors,contrast='minmax',figsize=(8,8))\n",
    "py4DSTEM.visualize.show_image_grid(get_ar=lambda i:datacube_cal.data[rxs_cal[i],rys_cal[i],:,:],\n",
    "                                   H=1,W=3,get_bc=lambda i:colors[i],\n",
    "                                   get_x=lambda i:selected_peaks[i].data['qx'],\n",
    "                                   get_y=lambda i:selected_peaks[i].data['qy'],\n",
    "                                   get_pointcolors=lambda i:colors[i])"
   ]
  },
  {
   "cell_type": "code",
   "execution_count": null,
   "metadata": {},
   "outputs": [],
   "source": [
    "# Get all disks\n",
    "\n",
    "braggpeaks_cal_raw = py4DSTEM.process.diskdetection.find_Bragg_disks(\n",
    "                                datacube=datacube_cal,\n",
    "                                probe=probe_kernel,\n",
    "                                corrPower=corrPower,\n",
    "                                sigma=sigma,\n",
    "                                edgeBoundary=edgeBoundary,\n",
    "                                minRelativeIntensity=minRelativeIntensity,\n",
    "                                relativeToPeak=relativeToPeak,\n",
    "                                minPeakSpacing=minPeakSpacing,\n",
    "                                maxNumPeaks=maxNumPeaks,\n",
    "                                subpixel=subpixel,\n",
    "                                upsample_factor=upsample_factor\n",
    ")"
   ]
  },
  {
   "cell_type": "code",
   "execution_count": null,
   "metadata": {},
   "outputs": [],
   "source": [
    "# Get Bragg vector map\n",
    "\n",
    "bvm_cal = py4DSTEM.process.diskdetection.get_bragg_vector_map(\n",
    "                    braggpeaks_cal_raw,datacube_cal.Q_Nx,datacube_cal.Q_Ny)\n",
    "py4DSTEM.visualize.show(bvm_cal,0,5,cmap='magma',power=0.5)"
   ]
  },
  {
   "cell_type": "markdown",
   "metadata": {},
   "source": [
    "#### Diffraction shift correction"
   ]
  },
  {
   "cell_type": "code",
   "execution_count": null,
   "metadata": {},
   "outputs": [],
   "source": [
    "# Get center position\n",
    "\n",
    "findcenter = 'CoM'   # Must be 'CoM' or 'max'\n",
    "zoomin_rad = 10\n",
    "\n",
    "xshifts_cal_meas, yshifts_cal_meas, bvm_center = py4DSTEM.process.calibration.get_diffraction_shifts(\n",
    "            braggpeaks_cal_raw,datacube_cal.Q_Nx,datacube_cal.Q_Ny,findcenter=findcenter)\n",
    "\n",
    "# Show\n",
    "qx0,qy0 = py4DSTEM.process.utils.get_CoM(bvm_center)\n",
    "fig,axs=py4DSTEM.visualize.show_image_grid(get_ar=lambda i:bvm_center,H=1,W=2,returnfig=True,cmap='magma',contrast='minmax')\n",
    "axs[0,1].set_xlim(qx0-zoomin_rad,qx0+zoomin_rad)\n",
    "axs[0,1].set_ylim(qy0-zoomin_rad,qy0+zoomin_rad)\n",
    "py4DSTEM.visualize.show_image_grid(get_ar=lambda i:[xshifts_cal_meas,yshifts_cal_meas][i],H=1,W=2,cmap='RdBu',contrast='minmax')"
   ]
  },
  {
   "cell_type": "code",
   "execution_count": null,
   "metadata": {},
   "outputs": [],
   "source": [
    "# Find outliers\n",
    "\n",
    "n_sigma = 10\n",
    "edge_boundary = 1\n",
    "n_bins = 100\n",
    "\n",
    "mask,n,bins,cutoff = py4DSTEM.process.calibration.find_outlier_shifts(xshifts_cal_meas,yshifts_cal_meas,n_sigma=n_sigma,edge_boundary=edge_boundary,n_bins=n_bins)\n",
    "\n",
    "# Show\n",
    "xshifts_masked = np.ma.masked_array(xshifts_cal_meas, mask)\n",
    "yshifts_masked = np.ma.masked_array(yshifts_cal_meas, mask)\n",
    "mask_display = np.ma.masked_array(mask, mask==False)\n",
    "\n",
    "fig,ax = plt.subplots()\n",
    "ax.bar(bins[:-1]+(bins[1]-bins[0])/2., n, (bins[1]-bins[0]), align='center')\n",
    "ax.vlines(cutoff,0,ax.get_ylim()[1],linestyle=':')\n",
    "plt.show()\n",
    "\n",
    "fig,axs = py4DSTEM.visualize.show_image_grid(get_ar=lambda i:[xshifts_masked,yshifts_masked][i],\n",
    "                                             H=1,W=2,returnfig=True,cmap=\"RdBu\",contrast='minmax')\n",
    "axs[0,0].matshow(mask_display)\n",
    "axs[0,1].matshow(mask_display)\n",
    "plt.show()"
   ]
  },
  {
   "cell_type": "code",
   "execution_count": null,
   "metadata": {},
   "outputs": [],
   "source": [
    "# Fit the diffraction shifts\n",
    "\n",
    "fit_function = py4DSTEM.process.fit.plane        # Select fit type\n",
    "#fit_function = py4DSTEM.process.fit.parabola\n",
    "\n",
    "# Fit\n",
    "popt_x, pcov_x, xshifts_cal_fit = py4DSTEM.process.fit.fit_2D(fit_function, xshifts_cal_meas, data_mask=mask==False)\n",
    "popt_y, pcov_y, yshifts_cal_fit = py4DSTEM.process.fit.fit_2D(fit_function, yshifts_cal_meas, data_mask=mask==False)\n",
    "residuals_x = xshifts_cal_meas-xshifts_cal_fit\n",
    "residuals_y = yshifts_cal_meas-yshifts_cal_fit\n",
    "residuals_x[mask] = 0\n",
    "residuals_y[mask] = 0\n",
    "\n",
    "imgrid = [xshifts_cal_meas,xshifts_cal_fit,residuals_x,yshifts_cal_meas,yshifts_cal_fit,residuals_y]\n",
    "py4DSTEM.visualize.show_image_grid(get_ar=lambda i:imgrid[i],H=2,W=3,contrast='minmax',cmap='RdBu')"
   ]
  },
  {
   "cell_type": "code",
   "execution_count": null,
   "metadata": {},
   "outputs": [],
   "source": [
    "# Apply shifts\n",
    "braggpeaks_cal_shiftcorr = py4DSTEM.process.calibration.shift_braggpeaks(\n",
    "                                braggpeaks_cal_raw, xshifts_cal_fit, yshifts_cal_fit)"
   ]
  },
  {
   "cell_type": "code",
   "execution_count": null,
   "metadata": {},
   "outputs": [],
   "source": [
    "# Re-calculate Bragg vector map\n",
    "bvm_cal_shiftcorr = py4DSTEM.process.diskdetection.get_bragg_vector_map(\n",
    "                    braggpeaks_cal_shiftcorr,datacube_cal.Q_Nx,datacube_cal.Q_Ny)\n",
    "\n",
    "from scipy.ndimage.filters import gaussian_filter\n",
    "qx0,qy0 = np.unravel_index(np.argmax(gaussian_filter(bvm_cal_shiftcorr,4)),\n",
    "                           (datacube_cal.Q_Nx,datacube_cal.Q_Ny))\n",
    "fig,axs=py4DSTEM.visualize.show_image_grid(get_ar=lambda i:bvm_cal_shiftcorr,H=1,W=2,\n",
    "                                           returnfig=True,cmap='magma',min=0,max=4,power=0.5)\n",
    "axs[0,1].set_xlim(qx0-zoomin_rad,qx0+zoomin_rad)\n",
    "axs[0,1].set_ylim(qy0-zoomin_rad,qy0+zoomin_rad)\n",
    "plt.show()"
   ]
  },
  {
   "cell_type": "markdown",
   "metadata": {},
   "source": [
    "#### Elliptical distortion correction"
   ]
  },
  {
   "cell_type": "code",
   "execution_count": null,
   "metadata": {},
   "outputs": [],
   "source": [
    "# Measure elliptical distortions\n",
    "qmin,qmax = 62,78  # pick a ring\n",
    "\n",
    "ellipseparams_cal_shiftcorr,_ = py4DSTEM.process.calibration.measure_elliptical_distortion(\n",
    "                                bvm_cal_shiftcorr,qx0,qy0,qmin,qmax)\n",
    "x,y,a,b,theta = ellipseparams_cal_shiftcorr\n",
    "\n",
    "from matplotlib.patches import Ellipse\n",
    "fig,ax = py4DSTEM.visualize.show_circ(bvm_cal_shiftcorr,0,4,power=0.5,cmap='magma',\n",
    "                             center=[(qx0,qy0),(qx0,qy0)],R=[qmin,qmax],fill=False,returnfig=True)\n",
    "ellipse = Ellipse((y,x),2*a,2*b,90-np.degrees(theta), fill=False,edgecolor='y',linestyle=\"-\",linewidth=3, alpha=.7)\n",
    "ax.add_patch(ellipse)\n",
    "plt.show()\n",
    "\n",
    "print(\"Measured ellipticity = {}%\".format(100*(max(a,b)/min(a,b)-1)))\n",
    "print(\"Measured theta = {} degrees\".format(np.degrees(theta)))"
   ]
  },
  {
   "cell_type": "code",
   "execution_count": null,
   "metadata": {},
   "outputs": [],
   "source": [
    "# Perform distortion correction\n",
    "braggpeaks_cal_ellipsecorr = py4DSTEM.process.calibration.correct_elliptical_distortion(\n",
    "                                            braggpeaks_cal_shiftcorr, ellipseparams_cal_shiftcorr)\n",
    "\n",
    "# Recalculate the bvm\n",
    "bvm_cal_ellipsecorr = py4DSTEM.process.diskdetection.get_bragg_vector_map(\n",
    "                            braggpeaks_cal_ellipsecorr,datacube_cal.Q_Nx,datacube_cal.Q_Ny)\n",
    "\n",
    "# Re-measure elliptical distortions\n",
    "ellipseparams_cal_ellipsecorr,_ = py4DSTEM.process.calibration.measure_elliptical_distortion(\n",
    "                        bvm_cal_ellipsecorr,qx0,qy0,qmin,qmax)\n",
    "x,y,a,b,theta = ellipseparams_cal_ellipsecorr\n",
    "\n",
    "fig,ax = py4DSTEM.visualize.show_circ(bvm_cal_ellipsecorr,0,4,power=0.5,cmap='magma',\n",
    "                             center=[(qx0,qy0),(qx0,qy0)],R=[qmin,qmax],fill=False,returnfig=True)\n",
    "ellipse = Ellipse((y,x),2*a,2*b,90-np.degrees(theta), fill=False,edgecolor='y',linestyle=\"-\",linewidth=3, alpha=.7)\n",
    "ax.add_patch(ellipse)\n",
    "plt.show()\n",
    "print(\"Measured ellipticity = {}%\".format(100*(max(a,b)/min(a,b)-1)))\n",
    "print(\"Measured theta = {} degrees\".format(np.degrees(theta)))"
   ]
  },
  {
   "cell_type": "markdown",
   "metadata": {},
   "source": [
    "#### Pixel size calibration\n",
    "\n",
    "Here we calibrate the diffraction space pixel size; no calibration of the real space pixel size, i.e. the scan step size, is performed.\n",
    "\n",
    "Note that strictly, what we're calibrating here is the pixel size of the *elliptically corrected data*.  The end result, a number with units of inverse distance, is only accurate for data to which the elliptical corrections calculated above have already been applied.  If we consider objects already generated in this notebook, then, this pixel calibration may be correctly applied to `bvm_cal_ellipsecorr`, but should be considered approximate if applied to `bvm_cal_shiftcorr`."
   ]
  },
  {
   "cell_type": "code",
   "execution_count": null,
   "metadata": {},
   "outputs": [],
   "source": [
    "# Radial integration\n",
    "ymax = 50000\n",
    "dq=0.25             # i.e. binsize for the x-axis\n",
    "\n",
    "x,y,_,_,_ = ellipseparams_cal_ellipsecorr\n",
    "q,radialintensity_cal = py4DSTEM.process.utils.radial_integral(bvm_cal_ellipsecorr,x,y,dr=dq)\n",
    "py4DSTEM.visualize.show_qprofile(q=q,intensity=radialintensity_cal,ymax=ymax)"
   ]
  },
  {
   "cell_type": "code",
   "execution_count": null,
   "metadata": {},
   "outputs": [],
   "source": [
    "# Fit a gaussian to find a peak location\n",
    "qmin,qmax = 65,74\n",
    "A,mu,sigma = py4DSTEM.process.fit.fit_1D_gaussian(q,radialintensity_cal,qmin,qmax)\n",
    "\n",
    "fig,ax = py4DSTEM.visualize.show_qprofile(q=q,intensity=radialintensity_cal,ymax=ymax,\n",
    "                                          returnfig=True)\n",
    "ax.vlines((qmin,qmax),0,ax.get_ylim()[1],color='r')\n",
    "ax.vlines(mu,0,ax.get_ylim()[1],color='g')\n",
    "ax.plot(q,py4DSTEM.process.fit.gaussian(q,A,mu,sigma),color='r')\n",
    "plt.show()"
   ]
  },
  {
   "cell_type": "code",
   "execution_count": null,
   "metadata": {},
   "outputs": [],
   "source": [
    "# Get pixel calibration\n",
    "# At time of writing, one peak with a known spacing\n",
    "# must be manually identified and entered\n",
    "d_spacing_nm = 0.1442                           # This is the Au 022 peak\n",
    "inv_nm_per_pixel = 1./(d_spacing_nm * mu)\n",
    "py4DSTEM.visualize.show_qprofile(q=q*inv_nm_per_pixel,intensity=radialintensity_cal,\n",
    "                                 ymax=ymax,xlabel='q (1/nm)')"
   ]
  },
  {
   "cell_type": "code",
   "execution_count": null,
   "metadata": {},
   "outputs": [],
   "source": [
    "# Demonstrate consistency with known Au spacings\n",
    "# TODO: fit all peaks simultaneously\n",
    "spacings_nm = np.array([0.1177,0.123,0.1442,0.2039,0.2355])   # 222, 113, 022, 002, 111\n",
    "spacings_inv_nm = 1./spacings_nm\n",
    "\n",
    "fig,ax = py4DSTEM.visualize.show_qprofile(q=q*inv_nm_per_pixel,intensity=radialintensity_cal,\n",
    "                                 ymax=ymax,xlabel='q (1/nm)',returnfig=True)\n",
    "ax.vlines(spacings_inv_nm,0,ax.get_ylim()[1],color='r')\n",
    "plt.show()"
   ]
  },
  {
   "cell_type": "code",
   "execution_count": null,
   "metadata": {},
   "outputs": [],
   "source": []
  },
  {
   "cell_type": "markdown",
   "metadata": {},
   "source": [
    "### Save calibration measurements"
   ]
  },
  {
   "cell_type": "code",
   "execution_count": null,
   "metadata": {},
   "outputs": [],
   "source": [
    "braggpeaks_cal_raw.name = 'braggpeaks_cal_raw'\n",
    "braggpeaks_cal_shiftcorr.name = 'braggpeaks_cal_shiftcorr'\n",
    "braggpeaks_cal_ellipsecorr.name = 'braggpeaks_cal_ellipsecorr'\n",
    "centerposition_cal_meas = py4DSTEM.io.DiffractionSlice(\n",
    "                          data = np.dstack([xshifts_cal_meas,yshifts_cal_meas]),\n",
    "                          name = 'centerposition_cal_meas',\n",
    "                          slicelabels = ('qx','qy')\n",
    ")\n",
    "centerposition_cal_fit = py4DSTEM.io.DiffractionSlice(\n",
    "                          data = np.dstack([xshifts_cal_fit,yshifts_cal_fit]),\n",
    "                          name = 'centerposition_cal_fit',\n",
    "                          slicelabels = ('qx','qy')\n",
    ")\n",
    "\n",
    "# Save data\n",
    "data = [braggpeaks_cal_raw,braggpeaks_cal_shiftcorr,braggpeaks_cal_ellipsecorr,\n",
    "        centerposition_cal_meas,centerposition_cal_fit]\n",
    "py4DSTEM.io.append(filepath,data)\n",
    "\n",
    "# Save metadata\n",
    "metadata = py4DSTEM.io.read(filepath,metadata=True)\n",
    "metadata.set_Q_pixel_size(inv_nm_per_pixel)\n",
    "metadata.set_Q_pixel_size_units('1/nm')\n",
    "_,_,a,b,theta = ellipseparams_cal_shiftcorr\n",
    "a,b = a/np.mean((a,b)),b/np.mean((a,b)) # Normalize elliptical semi-axes\n",
    "                                        # TODO: audit this. Should we do differently?\n",
    "metadata.set_elliptical_distortions(a,b,theta)\n",
    "py4DSTEM.io.append(filepath,metadata)"
   ]
  },
  {
   "cell_type": "code",
   "execution_count": null,
   "metadata": {},
   "outputs": [],
   "source": []
  },
  {
   "cell_type": "markdown",
   "metadata": {},
   "source": [
    "### Apply calibrations\n",
    "\n",
    "Next we calibrate the dataset of interest.  First we measure and correct the diffraction shifts in this dataset, then we apply the elliptical distortions and pixel sizes measured from the calibration dataset."
   ]
  },
  {
   "cell_type": "code",
   "execution_count": null,
   "metadata": {},
   "outputs": [],
   "source": [
    "# Select a few DPs on which to test disk detection parameters\n",
    "\n",
    "rxs_sim = 38,50,62\n",
    "rys_sim = 12,31,68\n",
    "colors = 'r','b','g'\n",
    "\n",
    "py4DSTEM.visualize.show_points(BF_sim,x=rxs_sim,y=rys_sim,point_color=colors,contrast='minmax',figsize=(8,8))\n",
    "py4DSTEM.visualize.show_image_grid(get_ar=lambda i:datacube_sim.data[rxs_sim[i],rys_sim[i],:,:],\n",
    "                                   H=1,W=3,get_bc=lambda i:colors[i])"
   ]
  },
  {
   "cell_type": "code",
   "execution_count": null,
   "metadata": {},
   "outputs": [],
   "source": [
    "# Tune disk detection parameters on selected DPs\n",
    "\n",
    "corrPower=1\n",
    "sigma=1\n",
    "edgeBoundary=10\n",
    "minRelativeIntensity=0.00005\n",
    "relativeToPeak=1\n",
    "minPeakSpacing=10\n",
    "maxNumPeaks=80\n",
    "subpixel='multicorr'\n",
    "upsample_factor=16\n",
    "\n",
    "selected_peaks = py4DSTEM.process.diskdetection.find_Bragg_disks_selected(\n",
    "                        datacube=datacube_sim,\n",
    "                        probe=probe_kernel,\n",
    "                        Rx=rxs_sim,\n",
    "                        Ry=rys_sim,\n",
    "                        corrPower=corrPower,\n",
    "                        sigma=sigma,\n",
    "                        edgeBoundary=edgeBoundary,\n",
    "                        minRelativeIntensity=minRelativeIntensity,\n",
    "                        relativeToPeak=relativeToPeak,\n",
    "                        minPeakSpacing=minPeakSpacing,\n",
    "                        maxNumPeaks=maxNumPeaks,\n",
    "                        subpixel=subpixel,\n",
    "                        upsample_factor=upsample_factor\n",
    ")\n",
    "\n",
    "py4DSTEM.visualize.show_points(BF_sim,x=rxs_sim,y=rys_sim,point_color=colors,contrast='minmax',figsize=(8,8))\n",
    "py4DSTEM.visualize.show_image_grid(get_ar=lambda i:datacube_sim.data[rxs_sim[i],rys_sim[i],:,:],\n",
    "                                   H=1,W=3,get_bc=lambda i:colors[i],\n",
    "                                   get_x=lambda i:selected_peaks[i].data['qx'],\n",
    "                                   get_y=lambda i:selected_peaks[i].data['qy'],\n",
    "                                   get_pointcolors=lambda i:colors[i])"
   ]
  },
  {
   "cell_type": "code",
   "execution_count": null,
   "metadata": {},
   "outputs": [],
   "source": [
    "# Get all disks\n",
    "\n",
    "braggpeaks_sim_raw = py4DSTEM.process.diskdetection.find_Bragg_disks(\n",
    "                                datacube=datacube_sim,\n",
    "                                probe=probe_kernel,\n",
    "                                corrPower=corrPower,\n",
    "                                sigma=sigma,\n",
    "                                edgeBoundary=edgeBoundary,\n",
    "                                minRelativeIntensity=minRelativeIntensity,\n",
    "                                relativeToPeak=relativeToPeak,\n",
    "                                minPeakSpacing=minPeakSpacing,\n",
    "                                maxNumPeaks=maxNumPeaks,\n",
    "                                subpixel=subpixel,\n",
    "                                upsample_factor=upsample_factor\n",
    ")"
   ]
  },
  {
   "cell_type": "code",
   "execution_count": null,
   "metadata": {},
   "outputs": [],
   "source": [
    "# Get Bragg vector map\n",
    "\n",
    "bvm_sim_raw = py4DSTEM.process.diskdetection.get_bragg_vector_map(\n",
    "                    braggpeaks_sim_raw,datacube_sim.Q_Nx,datacube_sim.Q_Ny)\n",
    "py4DSTEM.visualize.show(bvm_sim_raw,0,5,cmap='magma',power=0.5)"
   ]
  },
  {
   "cell_type": "markdown",
   "metadata": {},
   "source": [
    "#### Diffraction shift correction"
   ]
  },
  {
   "cell_type": "code",
   "execution_count": null,
   "metadata": {},
   "outputs": [],
   "source": [
    "# Get center position\n",
    "\n",
    "findcenter = 'CoM'   # Must be 'CoM' or 'max'\n",
    "zoomin_rad = 10\n",
    "\n",
    "xshifts_sim_meas, yshifts_sim_meas, bvm_center_sim = py4DSTEM.process.calibration.get_diffraction_shifts(\n",
    "            braggpeaks_sim_raw,datacube_sim.Q_Nx,datacube_sim.Q_Ny,findcenter=findcenter)\n",
    "\n",
    "# Show\n",
    "qx0,qy0 = py4DSTEM.process.utils.get_CoM(bvm_center_sim)\n",
    "fig,axs=py4DSTEM.visualize.show_image_grid(get_ar=lambda i:bvm_center_sim,H=1,W=2,returnfig=True,cmap='magma',contrast='minmax')\n",
    "axs[0,1].set_xlim(qx0-zoomin_rad,qx0+zoomin_rad)\n",
    "axs[0,1].set_ylim(qy0-zoomin_rad,qy0+zoomin_rad)\n",
    "py4DSTEM.visualize.show_image_grid(get_ar=lambda i:[xshifts_sim_meas,yshifts_sim_meas][i],H=1,W=2,cmap='RdBu',contrast='minmax')"
   ]
  },
  {
   "cell_type": "code",
   "execution_count": null,
   "metadata": {},
   "outputs": [],
   "source": [
    "# Find outliers\n",
    "\n",
    "n_sigma = 10\n",
    "edge_boundary = 1\n",
    "n_bins = 100\n",
    "\n",
    "mask,n,bins,cutoff = py4DSTEM.process.calibration.find_outlier_shifts(xshifts_sim_meas,yshifts_sim_meas,n_sigma=n_sigma,edge_boundary=edge_boundary,n_bins=n_bins)\n",
    "\n",
    "# Show\n",
    "xshifts_masked = np.ma.masked_array(xshifts_sim_meas, mask)\n",
    "yshifts_masked = np.ma.masked_array(yshifts_sim_meas, mask)\n",
    "mask_display = np.ma.masked_array(mask, mask==False)\n",
    "\n",
    "fig,ax = plt.subplots()\n",
    "ax.bar(bins[:-1]+(bins[1]-bins[0])/2., n, (bins[1]-bins[0]), align='center')\n",
    "ax.vlines(cutoff,0,ax.get_ylim()[1],linestyle=':')\n",
    "plt.show()\n",
    "\n",
    "fig,axs = py4DSTEM.visualize.show_image_grid(get_ar=lambda i:[xshifts_masked,yshifts_masked][i],\n",
    "                                             H=1,W=2,returnfig=True,cmap=\"RdBu\",contrast='minmax')\n",
    "axs[0,0].matshow(mask_display)\n",
    "axs[0,1].matshow(mask_display)\n",
    "plt.show()"
   ]
  },
  {
   "cell_type": "code",
   "execution_count": null,
   "metadata": {},
   "outputs": [],
   "source": [
    "# Fit the diffraction shifts\n",
    "\n",
    "fit_function = py4DSTEM.process.fit.plane        # Select fit type\n",
    "#fit_function = py4DSTEM.process.fit.parabola\n",
    "\n",
    "# Fit\n",
    "popt_x, pcov_x, xshifts_sim_fit = py4DSTEM.process.fit.fit_2D(fit_function, xshifts_sim_meas, data_mask=mask==False)\n",
    "popt_y, pcov_y, yshifts_sim_fit = py4DSTEM.process.fit.fit_2D(fit_function, yshifts_sim_meas, data_mask=mask==False)\n",
    "residuals_x = xshifts_sim_meas-xshifts_sim_fit\n",
    "residuals_y = yshifts_sim_meas-yshifts_sim_fit\n",
    "residuals_x[mask] = 0\n",
    "residuals_y[mask] = 0\n",
    "\n",
    "imgrid = [xshifts_sim_meas,xshifts_sim_fit,residuals_x,yshifts_sim_meas,yshifts_sim_fit,residuals_y]\n",
    "py4DSTEM.visualize.show_image_grid(get_ar=lambda i:imgrid[i],H=2,W=3,contrast='minmax',cmap='RdBu')"
   ]
  },
  {
   "cell_type": "code",
   "execution_count": null,
   "metadata": {},
   "outputs": [],
   "source": [
    "# Apply shifts\n",
    "braggpeaks_sim_shiftcorr = py4DSTEM.process.calibration.shift_braggpeaks(\n",
    "                           braggpeaks_sim_raw, xshifts_sim_fit, yshifts_sim_fit)"
   ]
  },
  {
   "cell_type": "code",
   "execution_count": null,
   "metadata": {},
   "outputs": [],
   "source": [
    "# Re-calculate Bragg vector map\n",
    "bvm_sim_shiftcorr = py4DSTEM.process.diskdetection.get_bragg_vector_map(\n",
    "                    braggpeaks_sim_shiftcorr,datacube_sim.Q_Nx,datacube_sim.Q_Ny)\n",
    "\n",
    "from scipy.ndimage.filters import gaussian_filter\n",
    "qx0,qy0 = np.unravel_index(np.argmax(gaussian_filter(bvm_sim_shiftcorr,4)),\n",
    "                           (datacube_sim.Q_Nx,datacube_sim.Q_Ny))\n",
    "fig,axs=py4DSTEM.visualize.show_image_grid(get_ar=lambda i:bvm_sim_shiftcorr,H=1,W=2,\n",
    "                                           returnfig=True,cmap='magma',min=0,max=16,power=0.5)\n",
    "axs[0,1].set_xlim(qx0-zoomin_rad,qx0+zoomin_rad)\n",
    "axs[0,1].set_ylim(qy0-zoomin_rad,qy0+zoomin_rad)\n",
    "plt.show()"
   ]
  },
  {
   "cell_type": "markdown",
   "metadata": {},
   "source": [
    "#### Elliptical distortion correction"
   ]
  },
  {
   "cell_type": "code",
   "execution_count": null,
   "metadata": {},
   "outputs": [],
   "source": [
    "# Get ellipse params\n",
    "x,y = py4DSTEM.process.utils.get_CoM(bvm_center_sim) # center position\n",
    "metadata = py4DSTEM.io.read(filepath,metadata=True)  # ellipse params\n",
    "a,b,theta = metadata.get_elliptical_distortions()\n",
    "ellipseparams_sim = x,y,a,b,theta                    # package params\n",
    "\n",
    "# Perform distortion correction\n",
    "braggpeaks_sim_ellipsecorr = py4DSTEM.process.calibration.correct_elliptical_distortion(\n",
    "                             braggpeaks_sim_shiftcorr, ellipseparams_sim)\n",
    "\n",
    "# Recalculate the bvm\n",
    "bvm_sim_ellipsecorr = py4DSTEM.process.diskdetection.get_bragg_vector_map(\n",
    "                      braggpeaks_sim_ellipsecorr,datacube_sim.Q_Nx,datacube_sim.Q_Ny)\n",
    "\n",
    "# Show\n",
    "py4DSTEM.visualize.show(bvm_sim_ellipsecorr,0,4,power=0.5,cmap='magma')"
   ]
  },
  {
   "cell_type": "markdown",
   "metadata": {},
   "source": [
    "#### Pixel size calibration"
   ]
  },
  {
   "cell_type": "code",
   "execution_count": null,
   "metadata": {},
   "outputs": [],
   "source": [
    "# Radial integration\n",
    "ymax = 75000\n",
    "dq=0.25             # i.e. binsize for the x-axis\n",
    "q,radialintensity_sim = py4DSTEM.process.utils.radial_integral(bvm_sim_ellipsecorr,x,y,dr=dq)\n",
    "py4DSTEM.visualize.show_qprofile(q=q*inv_nm_per_pixel,intensity=radialintensity_sim,ymax=ymax,xlabel='q (1/nm)')"
   ]
  },
  {
   "cell_type": "code",
   "execution_count": null,
   "metadata": {},
   "outputs": [],
   "source": [
    "# Confirm correct alignment of known Au peaks\n",
    "fig,ax = py4DSTEM.visualize.show_qprofile(q=q*inv_nm_per_pixel,intensity=radialintensity_sim,\n",
    "                                 ymax=ymax,xlabel='q (1/nm)',returnfig=True)\n",
    "ax.vlines(spacings_inv_nm,0,ax.get_ylim()[1],color='r')\n",
    "plt.show()"
   ]
  },
  {
   "cell_type": "code",
   "execution_count": null,
   "metadata": {},
   "outputs": [],
   "source": [
    "# Note that radial integration of the raw or shift-corrected-only\n",
    "# bvms give incorrect results!\n",
    "q,radialintensity_sim_raw = py4DSTEM.process.utils.radial_integral(bvm_sim_raw,x,y,dr=dq)\n",
    "q,radialintensity_sim_shiftcorr = py4DSTEM.process.utils.radial_integral(bvm_sim_shiftcorr,x,y,dr=dq)\n",
    "\n",
    "# Show\n",
    "f1,a1 = py4DSTEM.visualize.show_qprofile(q=q*inv_nm_per_pixel,intensity=radialintensity_sim,ymax=ymax,xlabel='q (1/nm)',returnfig=True)\n",
    "f2,a2 = py4DSTEM.visualize.show_qprofile(q=q*inv_nm_per_pixel,intensity=radialintensity_sim_shiftcorr,ymax=ymax,xlabel='q (1/nm)',returnfig=True)\n",
    "f3,a3 = py4DSTEM.visualize.show_qprofile(q=q*inv_nm_per_pixel,intensity=radialintensity_sim_raw,ymax=ymax,xlabel='q (1/nm)',returnfig=True)\n",
    "f1.suptitle('Ellipse corrected',size=22)\n",
    "f2.suptitle('Shift corrected only',size=22)\n",
    "f3.suptitle('Raw',size=22)\n",
    "for a,f,t in zip([a1,a2,a3],[f1,f2,f3],\n",
    "                 ['Ellipse corrected','Shift corrected only','Raw']):\n",
    "    f.suptitle(t,size=22)\n",
    "    a.vlines(spacings_inv_nm,0,a.get_ylim()[1],color='r',alpha=0.5)"
   ]
  },
  {
   "cell_type": "code",
   "execution_count": null,
   "metadata": {},
   "outputs": [],
   "source": []
  },
  {
   "cell_type": "markdown",
   "metadata": {},
   "source": [
    "### Save"
   ]
  },
  {
   "cell_type": "code",
   "execution_count": null,
   "metadata": {},
   "outputs": [],
   "source": [
    "braggpeaks_sim_raw.name = 'braggpeaks_sim_raw'\n",
    "braggpeaks_sim_shiftcorr.name = 'braggpeaks_sim_shiftcorr'\n",
    "braggpeaks_sim_ellipsecorr.name = 'braggpeaks_sim_ellipsecorr'\n",
    "centerposition_sim_meas = py4DSTEM.io.DiffractionSlice(\n",
    "                          data = np.dstack([xshifts_sim_meas,yshifts_sim_meas]),\n",
    "                          name = 'centerposition_sim_meas',\n",
    "                          slicelabels = ('qx','qy')\n",
    ")\n",
    "centerposition_sim_fit = py4DSTEM.io.DiffractionSlice(\n",
    "                          data = np.dstack([xshifts_sim_fit,yshifts_sim_fit]),\n",
    "                          name = 'centerposition_sim_fit',\n",
    "                          slicelabels = ('qx','qy')\n",
    ")\n",
    "\n",
    "# Save data\n",
    "data = [braggpeaks_sim_raw,braggpeaks_sim_shiftcorr,braggpeaks_sim_ellipsecorr,\n",
    "        centerposition_sim_meas,centerposition_sim_fit]\n",
    "py4DSTEM.io.append(filepath,data)"
   ]
  },
  {
   "cell_type": "code",
   "execution_count": null,
   "metadata": {},
   "outputs": [],
   "source": []
  },
  {
   "cell_type": "markdown",
   "metadata": {},
   "source": [
    "### Rotational calibration\n",
    "\n",
    "Here we determine the rotational offset of the real and diffraction space coordinates.  We do so by comparing two images of the sample, one in the image plane and one in the diffraction plane.  The latter image is a 'shadow image' formed in a defocused CBED pattern.  The former image can be any STEM image (BF, HAADF, etc) with a sufficiently wide field of view to match it to the defocused CBED.  A sample with clear features is also necessary."
   ]
  },
  {
   "cell_type": "code",
   "execution_count": null,
   "metadata": {},
   "outputs": [],
   "source": [
    "# Show the data\n",
    "py4DSTEM.visualize.show(defocused_probe,figsize=(6,6))\n",
    "py4DSTEM.visualize.show(BF_sim,figsize=(6,6),contrast='minmax')"
   ]
  },
  {
   "cell_type": "code",
   "execution_count": null,
   "metadata": {},
   "outputs": [],
   "source": [
    "# Pick two fiducial points, locate them on each image\n",
    "cbed_p1 = (154,204)\n",
    "cbed_p2 = (212,401)\n",
    "stem_p1 = (59,16.5)\n",
    "stem_p2 = (15,37)\n",
    "\n",
    "fig,(ax1,ax2) = plt.subplots(1,2,figsize=(12,6))\n",
    "ax1.matshow(defocused_probe,cmap='gray')\n",
    "ax2.matshow(BF_sim,cmap='gray')\n",
    "ax1.plot((cbed_p1[1],cbed_p2[1]),(cbed_p1[0],cbed_p2[0]),color='y')\n",
    "ax1.scatter((cbed_p1[1],cbed_p2[1]),(cbed_p1[0],cbed_p2[0]),color=('r','b'))\n",
    "ax2.plot((stem_p1[1],stem_p2[1]),(stem_p1[0],stem_p2[0]),color='y')\n",
    "ax2.scatter((stem_p1[1],stem_p2[1]),(stem_p1[0],stem_p2[0]),color=('r','b'))\n",
    "ax1.grid(True)\n",
    "ax2.grid(True)\n",
    "plt.show()"
   ]
  },
  {
   "cell_type": "code",
   "execution_count": null,
   "metadata": {},
   "outputs": [],
   "source": [
    "# Measure the rotational offset\n",
    "stem_angle = np.angle(stem_p2[0]+1j*stem_p2[1] - stem_p1[0]-1j*stem_p1[1], deg=True)%360\n",
    "cbed_angle = np.angle(cbed_p2[0]+1j*cbed_p2[1] - cbed_p1[0]-1j*cbed_p1[1], deg=True)%360\n",
    "QR_rotation = stem_angle-cbed_angle\n",
    "print(\"Real space is rotated {} degrees counterclockwise with respect to diffraction space.\".format(QR_rotation))"
   ]
  },
  {
   "cell_type": "markdown",
   "metadata": {},
   "source": [
    "#### Save"
   ]
  },
  {
   "cell_type": "code",
   "execution_count": null,
   "metadata": {},
   "outputs": [],
   "source": [
    "# Save metadata\n",
    "metadata = py4DSTEM.io.read(filepath,metadata=True)\n",
    "metadata.set_QR_rotation(QR_rotation)\n",
    "metadata.set_QR_rotation_units('degrees')\n",
    "py4DSTEM.io.append(filepath,metadata)"
   ]
  },
  {
   "cell_type": "code",
   "execution_count": null,
   "metadata": {},
   "outputs": [],
   "source": []
  },
  {
   "cell_type": "code",
   "execution_count": null,
   "metadata": {},
   "outputs": [],
   "source": []
  }
 ],
 "metadata": {
  "kernelspec": {
   "display_name": "Python 3",
   "language": "python",
   "name": "python3"
  },
  "language_info": {
   "codemirror_mode": {
    "name": "ipython",
    "version": 3
   },
   "file_extension": ".py",
   "mimetype": "text/x-python",
   "name": "python",
   "nbconvert_exporter": "python",
   "pygments_lexer": "ipython3",
   "version": "3.7.3"
  },
  "toc": {
   "base_numbering": 1,
   "nav_menu": {},
   "number_sections": true,
   "sideBar": true,
   "skip_h1_title": false,
   "title_cell": "Table of Contents",
   "title_sidebar": "Contents",
   "toc_cell": true,
   "toc_position": {},
   "toc_section_display": true,
   "toc_window_display": false
  },
  "varInspector": {
   "cols": {
    "lenName": 16,
    "lenType": 16,
    "lenVar": 40
   },
   "kernels_config": {
    "python": {
     "delete_cmd_postfix": "",
     "delete_cmd_prefix": "del ",
     "library": "var_list.py",
     "varRefreshCmd": "print(var_dic_list())"
    },
    "r": {
     "delete_cmd_postfix": ") ",
     "delete_cmd_prefix": "rm(",
     "library": "var_list.r",
     "varRefreshCmd": "cat(var_dic_list()) "
    }
   },
   "types_to_exclude": [
    "module",
    "function",
    "builtin_function_or_method",
    "instance",
    "_Feature"
   ],
   "window_display": false
  }
 },
 "nbformat": 4,
 "nbformat_minor": 4
}
