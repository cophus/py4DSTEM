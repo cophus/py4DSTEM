{
 "cells": [
  {
   "cell_type": "markdown",
   "id": "endangered-university",
   "metadata": {},
   "source": [
    "# `py4DSTEM.visualize` module demo"
   ]
  },
  {
   "cell_type": "code",
   "execution_count": null,
   "id": "brazilian-fourth",
   "metadata": {},
   "outputs": [],
   "source": [
    "import py4DSTEM.visualize as vis\n",
    "import py4DSTEM\n",
    "import numpy as np\n",
    "import matplotlib.pyplot as plt"
   ]
  },
  {
   "cell_type": "code",
   "execution_count": null,
   "id": "classified-criminal",
   "metadata": {},
   "outputs": [],
   "source": [
    "# Generate some sample data\n",
    "R_Nx,R_Ny = 32,64\n",
    "ryy,rxx = np.meshgrid(np.arange(R_Ny),np.arange(R_Nx))\n",
    "im = (np.cos(2*np.pi*ryy*4/R_Ny)*np.sin(2*np.pi*rxx/R_Nx))**2+0.01"
   ]
  },
  {
   "cell_type": "markdown",
   "id": "anonymous-poster",
   "metadata": {},
   "source": [
    "## the `show` function"
   ]
  },
  {
   "cell_type": "code",
   "execution_count": null,
   "id": "reverse-partition",
   "metadata": {},
   "outputs": [],
   "source": [
    "vis.show(im)"
   ]
  },
  {
   "cell_type": "code",
   "execution_count": null,
   "id": "standing-spider",
   "metadata": {},
   "outputs": [],
   "source": [
    "vis.show(im,figsize=(6,6),cmap='RdBu')"
   ]
  },
  {
   "cell_type": "code",
   "execution_count": null,
   "id": "treated-shoulder",
   "metadata": {},
   "outputs": [],
   "source": [
    "vis.show(im,scaling='none',figsize=(6,3))\n",
    "vis.show(im,scaling='log',figsize=(6,3))\n",
    "vis.show(im,scaling='power',power=0.5,figsize=(6,3))"
   ]
  },
  {
   "cell_type": "code",
   "execution_count": null,
   "id": "integrated-adoption",
   "metadata": {},
   "outputs": [],
   "source": [
    "# Setting `hist=True` displays the image histogram instead of the image\n",
    "# Dashed lines show the minimum and maximum values, beyond which the pixel intensities are saturated \n",
    "vis.show(im,hist=True,n_bins=32,figsize=(8,4))"
   ]
  },
  {
   "cell_type": "code",
   "execution_count": null,
   "id": "played-plaintiff",
   "metadata": {},
   "outputs": [],
   "source": [
    "vis.show(im,hist=True,n_bins=32,scaling='none',figsize=(8,2))             # default\n",
    "vis.show(im,hist=True,n_bins=32,scaling='log',figsize=(8,2))\n",
    "vis.show(im,hist=True,n_bins=32,scaling='power',power=0.5,figsize=(8,2))"
   ]
  },
  {
   "cell_type": "code",
   "execution_count": null,
   "id": "located-butterfly",
   "metadata": {},
   "outputs": [],
   "source": [
    "vis.show(im,hist=True,n_bins=32,clipvals='minmax',figsize=(8,2))                    # default\n",
    "vis.show(im,hist=True,n_bins=32,clipvals='manual',min=0.1,max=0.7,figsize=(8,2))\n",
    "vis.show(im,hist=True,n_bins=32,clipvals='std',min=1,max=1,figsize=(8,2))           # min/max = mean +/- min/max*std"
   ]
  },
  {
   "cell_type": "code",
   "execution_count": null,
   "id": "positive-equipment",
   "metadata": {},
   "outputs": [],
   "source": [
    "vis.show(im,clipvals='minmax',figsize=(8,2))\n",
    "vis.show(im,clipvals='manual',min=0.1,max=0.7,figsize=(8,2))\n",
    "vis.show(im,clipvals='std',min=1,max=1,figsize=(8,2))"
   ]
  },
  {
   "cell_type": "code",
   "execution_count": null,
   "id": "foster-sport",
   "metadata": {},
   "outputs": [],
   "source": [
    "# Setting `returnfig=True` returns the figure and axis objects\n",
    "fig,ax = vis.show(im,figsize=(6,3),returnfig=True)\n",
    "xmaxima,ymaxima,_ = py4DSTEM.process.utils.get_maxima_2D(im)\n",
    "ax.scatter(ymaxima,xmaxima,color='blue')\n",
    "plt.show()"
   ]
  },
  {
   "cell_type": "code",
   "execution_count": null,
   "id": "least-edwards",
   "metadata": {},
   "outputs": [],
   "source": [
    "# Alternatively, setting `figax=(fig,ax)` tells show to plot inside some existing matplotlib Axes instance\n",
    "fig,(ax1,ax2) = plt.subplots(2,1,figsize=(6,6))\n",
    "vis.show(im,figax=(fig,ax1))\n",
    "vis.show(im,figax=(fig,ax2),hist=True,n_bins=32)\n",
    "plt.show()"
   ]
  },
  {
   "cell_type": "code",
   "execution_count": null,
   "id": "inclusive-vaccine",
   "metadata": {},
   "outputs": [],
   "source": [
    "vis.show(im,figsize=(6,6),bordercolor='#6e961e',borderwidth=6)   # accepts anything matplotlib recognizes as a color\n",
    "vis.show(im,figsize=(6,6),bordercolor=(0.7,0.5,1,0.75),borderwidth=6)\n",
    "vis.show(im,figsize=(6,6),bordercolor='k',borderwidth=2)"
   ]
  },
  {
   "cell_type": "markdown",
   "id": "loaded-patent",
   "metadata": {},
   "source": [
    "## Images with overlays"
   ]
  },
  {
   "cell_type": "code",
   "execution_count": null,
   "id": "induced-basis",
   "metadata": {},
   "outputs": [],
   "source": [
    "vis.show_points(im,x=xmaxima,y=ymaxima,point_color='blue')"
   ]
  },
  {
   "cell_type": "code",
   "execution_count": null,
   "id": "outer-plaintiff",
   "metadata": {},
   "outputs": [],
   "source": [
    "s = np.arange(len(xmaxima))\n",
    "vis.show_points(im,x=xmaxima,y=ymaxima,point_color='blue',s=s,scale=100)  # `s` is relative sizes; `scale` is maximum size"
   ]
  },
  {
   "cell_type": "code",
   "execution_count": null,
   "id": "reliable-activity",
   "metadata": {},
   "outputs": [],
   "source": [
    "corners = (2,15,20,30)                                           # (xmin,xmax,ymin,ymax)\n",
    "vis.show_rect(im,corners,fill=False,linewidth=2,alpha=1)         # The origin is the upper left. x is downwards.  Truly, I am sorry\n",
    "vis.show(im[corners[0]:corners[1],corners[2]:corners[3]])        # The box is drawn to surround a set of pixels;\n",
    "                                                                 # minima are inclusive, and maxima are exclusive, to match numpy array slicing"
   ]
  },
  {
   "cell_type": "code",
   "execution_count": null,
   "id": "earned-defensive",
   "metadata": {},
   "outputs": [],
   "source": [
    "rect_params = (0,15,20,40)\n",
    "vis.show_rect(im,rect_params,alpha=0.25)\n",
    "vis.show_rect(im,rect_params,fill=False,linewidth=4,alpha=1,color='b')\n",
    "vis.show_rect(im,[(5,15,5,15),(20,25,30,50)],alpha=[0.3,1],fill=[True,False],color=['r','b'])"
   ]
  },
  {
   "cell_type": "code",
   "execution_count": null,
   "id": "electronic-rochester",
   "metadata": {},
   "outputs": [],
   "source": [
    "circ_center = (7,17)\n",
    "circ_R = 5\n",
    "vis.show_circ(im,circ_center,circ_R)"
   ]
  },
  {
   "cell_type": "code",
   "execution_count": null,
   "id": "velvet-worship",
   "metadata": {},
   "outputs": [],
   "source": [
    "circ_centers = [(x,y) for (x,y) in zip(xmaxima,ymaxima)]\n",
    "circ_Rs = list(np.sin(2*np.pi*np.arange(len(xmaxima))/len(xmaxima))+0.5)\n",
    "vis.show_circ(im,circ_centers,circ_Rs,alpha=0.5,fill=True)"
   ]
  },
  {
   "cell_type": "code",
   "execution_count": null,
   "id": "adverse-period",
   "metadata": {},
   "outputs": [],
   "source": [
    "from matplotlib.cm import get_cmap\n",
    "cmap = get_cmap('jet')\n",
    "colors = [cmap(i) for i in np.linspace(0,1,len(xmaxima))]\n",
    "vis.show_circ(im,circ_centers,circ_Rs,alpha=0.5,color=colors)"
   ]
  },
  {
   "cell_type": "code",
   "execution_count": null,
   "id": "dynamic-generation",
   "metadata": {},
   "outputs": [],
   "source": [
    "ann_center = (7,17)\n",
    "ann_Ri,ann_Ro = 4,6\n",
    "vis.show_annuli(im,ann_center,ann_Ri,ann_Ro)\n",
    "vis.show_annuli(im,center=[(7,17),(23,40)],Ri=[4,3],Ro=[6,9],color=['r',(0,1,1,1)])"
   ]
  },
  {
   "cell_type": "markdown",
   "id": "attended-mainstream",
   "metadata": {},
   "source": [
    "## Showing grids of images"
   ]
  },
  {
   "cell_type": "code",
   "execution_count": null,
   "id": "disciplinary-patrick",
   "metadata": {},
   "outputs": [],
   "source": [
    "# These functions accept some other function which returns images.\n",
    "# Python's lambda syntax is not necessary, but can help keep your code tighter.\n",
    "def f(x): return x+1\n",
    "g = lambda x:x+1\n",
    "assert f(1)==g(1)"
   ]
  },
  {
   "cell_type": "code",
   "execution_count": null,
   "id": "controversial-burden",
   "metadata": {},
   "outputs": [],
   "source": [
    "# Generate sample data\n",
    "R_Nx,R_Ny = 32,64\n",
    "ryy,rxx = np.meshgrid(np.arange(R_Ny),np.arange(R_Nx))\n",
    "ims = np.empty((R_Nx,R_Ny,10))\n",
    "for i in range(10):\n",
    "    ims[:,:,i] = (np.cos(2*np.pi*ryy*4*i/R_Ny)*np.sin(2*np.pi*i*rxx/R_Nx))**2+0.01"
   ]
  },
  {
   "cell_type": "code",
   "execution_count": null,
   "id": "apart-question",
   "metadata": {},
   "outputs": [],
   "source": [
    "vis.show_image_grid(get_ar=lambda i:ims[:,:,i],H=5,W=2,axsize=(5,2.5))"
   ]
  },
  {
   "cell_type": "code",
   "execution_count": null,
   "id": "affecting-serbia",
   "metadata": {},
   "outputs": [],
   "source": [
    "vis.show_image_grid(get_ar=lambda i:ims[:,:,i+1],H=3,W=2,axsize=(5,2.5),\n",
    "                    get_bordercolor=lambda i:('r','g','b','y','pink','#1e9096')[i])"
   ]
  },
  {
   "cell_type": "code",
   "execution_count": null,
   "id": "third-convenience",
   "metadata": {},
   "outputs": [],
   "source": [
    "colors=('r','g','b','y','pink','#1e9096')\n",
    "vis.show_image_grid(get_ar=lambda i:ims[:,:,i+1],H=3,W=2,axsize=(5,2.5),\n",
    "                    get_bordercolor=lambda i:colors[i],\n",
    "                    get_x=lambda i:py4DSTEM.process.utils.get_maxima_2D(ims[:,:,i+1])[0],\n",
    "                    get_y=lambda i:py4DSTEM.process.utils.get_maxima_2D(ims[:,:,i+1])[1],\n",
    "                    get_pointcolors=lambda i:colors[i],\n",
    "                    get_s=lambda i:np.sin(np.arange(len(py4DSTEM.process.utils.get_maxima_2D(ims[:,:,i+1])[0]))),\n",
    "                    scale=200)"
   ]
  },
  {
   "cell_type": "code",
   "execution_count": null,
   "id": "several-opportunity",
   "metadata": {},
   "outputs": [],
   "source": []
  },
  {
   "cell_type": "markdown",
   "id": "worth-lawsuit",
   "metadata": {},
   "source": [
    "## Functions for displaying selected subsets of diffraction patterns"
   ]
  },
  {
   "cell_type": "markdown",
   "id": "skilled-cooper",
   "metadata": {},
   "source": [
    "The dataset used below can be [downloaded here](https://drive.google.com/file/d/1B-xX3F65JcWzAg0v7f1aVwnawPIfb5_o/view?usp=sharing)."
   ]
  },
  {
   "cell_type": "code",
   "execution_count": null,
   "id": "clinical-month",
   "metadata": {},
   "outputs": [],
   "source": [
    "filepath_sample4ddata = \"/media/AuxDriveB/Data/4DSTEM_SampleData/SteveZeltmann_SmallDatasets_20180830/1_10x10 ss=100 alpha=p48 spot 11 cl=1200 300kV RT bin=4 0p5sec.dm3\"\n",
    "datacube = py4DSTEM.io.read(filepath_sample4ddata)\n",
    "datacube.set_scan_shape(10,10)\n",
    "BF_image = py4DSTEM.process.virtualimage.get_virtualimage_circ(datacube,240,270,60)"
   ]
  },
  {
   "cell_type": "code",
   "execution_count": null,
   "id": "advanced-netherlands",
   "metadata": {},
   "outputs": [],
   "source": [
    "vis.show_selected_dp(datacube,BF_image,5,8)"
   ]
  },
  {
   "cell_type": "code",
   "execution_count": null,
   "id": "wired-vehicle",
   "metadata": {},
   "outputs": [],
   "source": [
    "x0,y0 = 3,2     # upper left corner\n",
    "xL,yL = 3,4     # side lengths\n",
    "vis.show_grid_overlay(BF_image,x0,y0,xL,yL,linewidth=4)\n",
    "vis.show_DP_grid(datacube,x0,y0,xL,yL,axsize=(3,3),scaling='log',bordercolor='k')"
   ]
  },
  {
   "cell_type": "code",
   "execution_count": null,
   "id": "worth-samuel",
   "metadata": {},
   "outputs": [],
   "source": [
    "vis.show_DP_grid(datacube,0,0,datacube.R_Nx,datacube.R_Ny,axsize=(2,2),scaling='log',bordercolor='k',borderwidth=0.5)"
   ]
  },
  {
   "cell_type": "code",
   "execution_count": null,
   "id": "demonstrated-teens",
   "metadata": {},
   "outputs": [],
   "source": []
  },
  {
   "cell_type": "markdown",
   "id": "oriental-adjustment",
   "metadata": {},
   "source": [
    "## Plotting real and reciprocal space together"
   ]
  },
  {
   "cell_type": "code",
   "execution_count": null,
   "id": "military-cemetery",
   "metadata": {},
   "outputs": [],
   "source": [
    "vis.show_RQ(BF_image,datacube.data[4,7,:,:])"
   ]
  },
  {
   "cell_type": "code",
   "execution_count": null,
   "id": "governmental-sherman",
   "metadata": {},
   "outputs": [],
   "source": [
    "vis.show_RQ(realspace_image=BF_image,\n",
    "            diffractionspace_image=datacube.data[4,7,:,:],\n",
    "            realspace_pdict={'cmap':'viridis'},\n",
    "            diffractionspace_pdict={'scaling':'power','power':0.5,\n",
    "                                    'clipvals':'std','min':1,'max':3})"
   ]
  },
  {
   "cell_type": "code",
   "execution_count": null,
   "id": "heavy-hayes",
   "metadata": {},
   "outputs": [],
   "source": []
  },
  {
   "cell_type": "markdown",
   "id": "combined-minimum",
   "metadata": {},
   "source": [
    "## Scalebars"
   ]
  },
  {
   "cell_type": "code",
   "execution_count": null,
   "id": "convertible-johns",
   "metadata": {},
   "outputs": [],
   "source": []
  },
  {
   "cell_type": "markdown",
   "id": "fossil-visibility",
   "metadata": {},
   "source": [
    "## Functions for polar elliptical data"
   ]
  },
  {
   "cell_type": "code",
   "execution_count": null,
   "id": "adopted-cache",
   "metadata": {},
   "outputs": [],
   "source": []
  },
  {
   "cell_type": "markdown",
   "id": "exotic-omaha",
   "metadata": {},
   "source": [
    "## Functions for making probe templates"
   ]
  },
  {
   "cell_type": "code",
   "execution_count": null,
   "id": "widespread-minnesota",
   "metadata": {},
   "outputs": [],
   "source": []
  },
  {
   "cell_type": "markdown",
   "id": "domestic-citation",
   "metadata": {},
   "source": [
    "## Functions for bragg detection"
   ]
  },
  {
   "cell_type": "code",
   "execution_count": null,
   "id": "premier-palmer",
   "metadata": {},
   "outputs": [],
   "source": []
  },
  {
   "cell_type": "markdown",
   "id": "identified-enhancement",
   "metadata": {},
   "source": [
    "## Functions for strain mapping"
   ]
  },
  {
   "cell_type": "code",
   "execution_count": null,
   "id": "lonely-spelling",
   "metadata": {},
   "outputs": [],
   "source": []
  },
  {
   "cell_type": "markdown",
   "id": "comparable-collar",
   "metadata": {},
   "source": [
    "## Functions for classification"
   ]
  },
  {
   "cell_type": "code",
   "execution_count": null,
   "id": "seeing-layout",
   "metadata": {},
   "outputs": [],
   "source": []
  },
  {
   "cell_type": "code",
   "execution_count": null,
   "id": "present-anime",
   "metadata": {},
   "outputs": [],
   "source": []
  },
  {
   "cell_type": "code",
   "execution_count": null,
   "id": "stock-intent",
   "metadata": {},
   "outputs": [],
   "source": []
  }
 ],
 "metadata": {
  "kernelspec": {
   "display_name": "Python 3",
   "language": "python",
   "name": "python3"
  },
  "language_info": {
   "codemirror_mode": {
    "name": "ipython",
    "version": 3
   },
   "file_extension": ".py",
   "mimetype": "text/x-python",
   "name": "python",
   "nbconvert_exporter": "python",
   "pygments_lexer": "ipython3",
   "version": "3.8.5"
  }
 },
 "nbformat": 4,
 "nbformat_minor": 5
}
